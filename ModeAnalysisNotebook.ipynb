{
 "cells": [
  {
   "cell_type": "code",
   "execution_count": 1,
   "id": "ea965151",
   "metadata": {},
   "outputs": [],
   "source": [
    "import crystal_mod as cry_mod \n",
    "import mode_analysis_code_original as ma\n",
    "import matplotlib.pyplot as plt \n",
    "import numpy as np\n",
    "import FMM3D.python.fmm3dpy as fmm\n",
    "from scipy import optimize"
   ]
  },
  {
   "cell_type": "code",
   "execution_count": 33,
   "id": "33d19515",
   "metadata": {},
   "outputs": [
    {
     "name": "stdout",
     "output_type": "stream",
     "text": [
      "False\n",
      "Desired error not necessarily achieved due to precision loss.\n",
      "False\n",
      "Desired error not necessarily achieved due to precision loss.\n",
      "False\n",
      "Desired error not necessarily achieved due to precision loss.\n",
      "False\n",
      "Desired error not necessarily achieved due to precision loss.\n",
      "False\n",
      "Desired error not necessarily achieved due to precision loss.\n",
      "False\n",
      "Desired error not necessarily achieved due to precision loss.\n",
      "(472,)\n"
     ]
    }
   ],
   "source": [
    "num_ions=236\n",
    "mass_amu=9.012182\n",
    "vtrap=(0.0, -1750.0, -1970.0)\n",
    "v_wall=30.\n",
    "frot=180000\n",
    "method='bfgs'\n",
    "frot_kHz = 1e-3*frot \n",
    "\n",
    "ma_instance=ma.ModeAnalysis(\n",
    "            N      = num_ions,\n",
    "            ionmass= mass_amu,\n",
    "            Vtrap  = vtrap,\n",
    "            omega_z = 2*np.pi*1.58e6,\n",
    "            Vwall  = v_wall,\n",
    "            frot   = frot_kHz,\n",
    "            method = method)\n",
    "ma_instance.run()"
   ]
  },
  {
   "cell_type": "code",
   "execution_count": 34,
   "id": "c2e8a64d",
   "metadata": {},
   "outputs": [],
   "source": [
    "pos = ma_instance.uE\n",
    "pos0 = ma_instance.u0E"
   ]
  },
  {
   "cell_type": "code",
   "execution_count": 35,
   "id": "9c3b6fe1",
   "metadata": {
    "scrolled": true
   },
   "outputs": [
    {
     "data": {
      "image/png": "[encoded data removed]",
      "text/plain": [
       "<Figure size 432x288 with 1 Axes>"
      ]
     },
     "metadata": {
      "needs_background": "light"
     },
     "output_type": "display_data"
    },
    {
     "name": "stdout",
     "output_type": "stream",
     "text": [
      "[-5.22993011e-06 -2.42952316e-06  5.47655252e-06 -6.99006640e-06\n",
      " -1.93488548e-05 -1.76281682e-05 -1.51556672e-05  6.01021290e-06\n",
      "  2.49503256e-05  7.19500158e-06  1.80891091e-05  3.17269408e-06\n",
      "  1.04932874e-06 -9.73158815e-06 -1.17211103e-05 -3.17168765e-05\n",
      " -2.81661546e-05 -1.23384829e-05 -1.72601085e-07 -7.38690444e-06\n",
      "  1.53243370e-05  2.17765503e-05  3.13999869e-05  3.08421697e-05\n",
      "  1.61454485e-05  1.14946807e-05  2.48250538e-05  9.06413553e-06\n",
      " -1.52349465e-06 -1.46360304e-05 -2.45778108e-05 -3.72789826e-05\n",
      " -3.02422254e-05 -2.56442951e-05 -3.90886156e-05 -4.13094132e-05\n",
      " -2.20931862e-05 -1.07370267e-05  9.37802401e-07  3.06127603e-05\n",
      "  3.49929474e-05  4.33150665e-05  1.96571759e-05  5.22907350e-05\n",
      "  2.72509752e-05  3.84937756e-05  3.27200222e-05  2.21306460e-05\n",
      "  1.67622972e-05  3.33207808e-06 -6.99865509e-06 -2.07792739e-05\n",
      " -2.81401727e-05 -5.38143407e-05 -3.68523203e-05 -5.48760453e-05\n",
      " -4.13863200e-05 -3.60001838e-05 -3.27481352e-05 -2.68107021e-05\n",
      " -1.87337289e-05 -4.18992286e-06  1.28628868e-05  3.96549424e-05\n",
      "  6.01469787e-05  4.05850974e-05  5.02529929e-05  4.25127353e-05\n",
      "  5.42226427e-05  2.92263430e-05  4.98341559e-05  4.68562564e-05\n",
      "  3.01324119e-05  2.68392634e-05  2.77919066e-05  1.94849044e-05\n",
      "  7.84827874e-06 -1.49742548e-05 -1.68985445e-05 -3.91888774e-06\n",
      " -3.04535706e-05 -4.43716116e-05 -5.62192529e-05 -6.70814878e-05\n",
      " -4.42182833e-05 -4.98795269e-05 -4.65361392e-05 -3.42399386e-05\n",
      " -2.56585386e-05 -1.89217204e-05 -1.17463734e-05 -7.50400345e-06\n",
      "  4.11331623e-06  3.29953981e-05  1.85163133e-05  5.69466154e-05\n",
      "  7.48375273e-05  6.39954387e-05  6.62998128e-05  6.72589640e-05\n",
      "  6.40291919e-05  7.60988592e-05  5.42982460e-05  7.70432693e-05\n",
      "  4.34543001e-05  4.11695342e-05  5.81104931e-05  1.14211801e-05\n",
      "  1.43328996e-05 -3.53070211e-06 -1.08295721e-05 -3.12498110e-05\n",
      " -4.14323947e-05 -4.84708545e-05 -5.95953298e-05 -5.71089078e-05\n",
      " -7.53673605e-05 -8.01843840e-05 -4.31906940e-05 -6.64761802e-05\n",
      " -6.06469996e-05 -7.10254806e-05 -4.95536072e-05 -4.17587553e-05\n",
      " -2.40222610e-05 -1.46009111e-05 -1.72809179e-05  9.70940588e-06\n",
      " -1.91446810e-06  4.19582704e-05  5.46869885e-05  7.34359583e-05\n",
      "  7.02300924e-05  6.42497423e-05  5.51526694e-05  9.33091798e-05\n",
      "  7.95960348e-05  9.44304586e-05  6.61386636e-05  8.91885327e-05\n",
      "  6.13566877e-05  3.58031745e-05  6.89430366e-05  5.78053322e-05\n",
      "  2.27709336e-05  3.46063471e-05  3.20380541e-05  1.95222161e-05\n",
      " -7.85537310e-06 -2.00891641e-05 -2.64971316e-05 -3.48704776e-05\n",
      " -7.54906202e-05 -5.05771663e-05 -5.01311913e-05 -6.48944456e-05\n",
      " -7.88854467e-05 -9.15700253e-05 -8.02890820e-05 -6.80657614e-05\n",
      " -5.27325256e-05 -6.39118246e-05 -7.53416060e-05 -7.54032899e-05\n",
      " -5.80824515e-05 -4.94950426e-05 -3.92983355e-05 -2.42091984e-05\n",
      "  2.03193520e-06  2.41147868e-05  3.39077019e-05  2.35945818e-05\n",
      "  5.03717371e-05  4.88866501e-05  6.13228100e-05  4.28700035e-05\n",
      "  9.07767556e-05  1.05751410e-05  5.35172173e-05  7.78961476e-05\n",
      "  7.99468547e-05  9.41343554e-05  7.85272790e-05  9.22254625e-05\n",
      "  4.07442026e-05  1.40190806e-05  4.14312233e-05  5.90664070e-05\n",
      "  5.32974573e-05  3.95742044e-05  4.83822125e-05  1.45324870e-05\n",
      "  4.10450309e-06  6.27776044e-06 -5.04071302e-08 -2.53450451e-05\n",
      " -4.19323285e-05 -6.63149145e-05 -5.82205316e-05 -5.50098366e-05\n",
      " -4.34656286e-05 -2.28539177e-05 -7.17152968e-05 -8.81861028e-05\n",
      " -9.40226867e-05 -9.46205499e-05 -9.39416534e-05 -7.83431814e-05\n",
      " -5.58865759e-05  1.29721220e-05 -8.76461612e-05 -6.66468293e-05\n",
      " -5.56446422e-05 -3.85815704e-05 -3.24849732e-05 -4.61475158e-06\n",
      "  8.03047050e-06  1.80129747e-05 -1.23141434e-05 -3.75726989e-05\n",
      "  8.09682321e-05  7.02480939e-05 -8.23240210e-05  2.79117337e-05\n",
      " -2.56004571e-05 -4.71792485e-06  1.41787889e-05  7.30318889e-05\n",
      " -6.52633771e-05 -6.59042706e-05  4.48439245e-05  8.67097683e-05\n",
      " -8.26446055e-05  8.51627476e-05 -9.14805294e-05  3.27617857e-05]\n",
      "[ 1.07949217e-05  2.46316714e-05  1.00204009e-06 -2.88285666e-06\n",
      " -6.91013998e-06  6.88460221e-06  2.07255665e-05  5.18249568e-05\n",
      "  3.51954264e-05  1.44877585e-05  5.45814658e-06 -1.24720097e-05\n",
      " -2.58228694e-05 -1.66782504e-05 -3.01260300e-05 -1.10885435e-05\n",
      "  1.63984317e-05  3.46674278e-05  3.84647117e-05  4.99482957e-05\n",
      "  6.22375622e-05  5.00132705e-05  2.39504657e-05  1.01486359e-05\n",
      " -8.04656842e-06 -3.48471535e-05 -3.00308210e-05 -4.86349085e-05\n",
      " -3.95262916e-05 -4.39704668e-05 -3.42396198e-05 -3.88659596e-05\n",
      "  2.77241537e-06  2.98056590e-05  2.65039692e-05  6.52505901e-05\n",
      "  4.30376676e-05  9.16599118e-05  6.38945405e-05  6.00446213e-05\n",
      "  4.57174346e-05  1.75622366e-05  1.92891242e-05 -1.86210116e-05\n",
      " -1.66362914e-05 -2.46311978e-05 -5.23297345e-05 -4.36185975e-05\n",
      " -7.22629720e-05 -7.71559906e-05 -6.76569497e-05 -7.19958182e-05\n",
      " -4.84730360e-05 -2.32085130e-05 -2.55893079e-05  7.76496013e-06\n",
      "  1.29171389e-05  4.00667450e-05  5.36210156e-05  6.71589700e-05\n",
      "  7.90543220e-05  7.81852330e-05  1.01532695e-04  7.04670459e-05\n",
      "  5.27560665e-05  3.31578337e-05  4.25758439e-05  3.08007056e-06\n",
      " -4.12890692e-06 -3.29613326e-06 -3.28719904e-05 -4.70202359e-05\n",
      " -6.70858956e-05 -9.66858368e-05 -8.19403135e-05 -5.78206575e-05\n",
      " -1.16512623e-04 -9.63367200e-05 -5.77925792e-05 -5.33143244e-05\n",
      " -6.13872568e-05 -5.06525413e-05 -7.15326614e-06 -1.63184572e-05\n",
      " -1.45233545e-05  3.66038689e-05  5.08566861e-05  7.90659156e-05\n",
      "  9.16446854e-05  5.55546514e-05  6.63379013e-05  1.18034589e-04\n",
      "  8.96267670e-05  8.38905440e-05  8.70934029e-05  9.65355368e-05\n",
      "  4.75373022e-05  3.68118945e-05  2.03448392e-05  3.76909187e-06\n",
      " -2.71302861e-05 -3.70667389e-05 -7.15304284e-05 -8.43049158e-05\n",
      " -6.13016354e-05 -9.07530437e-05 -5.67445263e-05 -1.01125066e-04\n",
      " -8.69460647e-05 -1.05537935e-04 -8.19018817e-05 -1.00531218e-04\n",
      " -8.95731455e-05 -1.03707736e-04 -4.71547286e-05 -6.16043161e-05\n",
      " -4.29645299e-05 -8.35516959e-06 -7.24069513e-07  1.66827728e-05\n",
      "  4.73681187e-05  5.92280158e-05  7.73829732e-05  9.14931872e-05\n",
      "  1.20367279e-04  1.32748272e-04  1.05511495e-04  7.54817086e-05\n",
      "  1.03729956e-04  9.58134552e-05  6.72927443e-05  9.59632475e-05\n",
      "  6.43575145e-05  8.04177439e-05  1.09197349e-05  2.33603389e-05\n",
      "  1.31062510e-05  5.09634270e-06 -1.19542100e-05 -4.87184257e-05\n",
      " -4.20388389e-05 -3.83723460e-05 -6.95650103e-05 -1.15420618e-04\n",
      " -1.11170009e-04 -1.21544964e-04 -1.40867767e-04 -1.28291515e-04\n",
      " -1.19916850e-04 -1.10506998e-04 -1.45014419e-04 -7.60792136e-05\n",
      " -8.97611118e-05 -7.71312611e-05 -3.62197220e-05 -3.24198230e-05\n",
      " -2.58093090e-05 -3.66589359e-05  9.45852984e-06  7.45858343e-07\n",
      "  2.22638247e-05  3.21426345e-05  4.29394018e-05  8.95527092e-05\n",
      "  9.04281251e-05  1.05068470e-04  1.18609704e-04  1.45958051e-04\n",
      "  1.32583982e-04  7.29570388e-05  1.24138026e-04  1.13039799e-04\n",
      "  1.27887700e-04  8.18772235e-05  1.12706269e-04  1.10665497e-04\n",
      "  4.15990461e-05  2.81593326e-05  2.70284090e-05  3.03647628e-05\n",
      " -4.16856366e-06 -1.31658888e-05 -2.08203308e-05 -3.10433076e-05\n",
      " -1.08570975e-05 -2.13612550e-05 -7.67812799e-05 -8.53439026e-05\n",
      " -9.95756420e-05 -1.07074172e-04 -1.29872383e-04 -1.47659984e-04\n",
      " -1.32957544e-04 -6.27885897e-05 -9.12565049e-05 -8.65730313e-05\n",
      " -1.33429234e-04 -1.06218328e-04 -9.05771677e-05 -1.20678630e-04\n",
      " -6.42848541e-05 -2.10390922e-05 -5.86428406e-05 -5.46497613e-05\n",
      " -1.81287089e-05  4.70683233e-07  1.91758742e-05  2.64326138e-05\n",
      "  6.25618382e-05  4.05789452e-05  5.51792110e-05  1.06149124e-04\n",
      "  1.22721074e-04  1.35257206e-04  1.04615810e-04  1.49612225e-04\n",
      "  1.16575640e-04  1.29805969e-04 -1.35128353e-04 -1.15198405e-04\n",
      "  7.79065426e-05 -1.00815827e-04  7.25824944e-05  9.91344204e-05\n",
      " -1.25531137e-04 -1.50796118e-04  1.47756511e-04 -5.32697095e-05\n",
      "  7.51123961e-05 -7.49556425e-05  5.61676262e-05  5.98109601e-05\n",
      " -7.24398540e-05 -6.68008523e-05  3.73748904e-05  1.41570473e-04]\n"
     ]
    }
   ],
   "source": [
    "ax = plt.subplot()\n",
    "ax.axis('equal')\n",
    "ax.scatter(pos[0:ma_instance.Nion]*1e6,pos[ma_instance.Nion:]*1e6)\n",
    "plt.show()\n",
    "print(pos[:num_ions])\n",
    "print(pos[num_ions:])"
   ]
  },
  {
   "cell_type": "code",
   "execution_count": 36,
   "id": "75666d5c",
   "metadata": {},
   "outputs": [],
   "source": [
    "def force_penning(pos_array, Nion):\n",
    "        \"\"\"\n",
    "        Computes the net forces acting on each ion in the crystal;\n",
    "        used as the jacobian by find_eq_pos to minimize the potential energy\n",
    "        of a crystal configuration.\n",
    "\n",
    "        :param pos_array: crystal to find forces of.\n",
    "        :return: a vector of size 2N describing the x forces and y forces.\n",
    "        \"\"\"\n",
    "        wr = 180000*2*np.pi\n",
    "        wz = 2*np.pi*1.58e6\n",
    "        q= 1.60217663 * 10**-19\n",
    "        eps0 = 8.85418782*10**-12\n",
    "        m = 9.012182*1.66057e-27\n",
    "        wz = 2*np.pi*1.58e6\n",
    "        wc = 4.4588*q/m\n",
    "        V0=(0.5 * m * wz**2) / q\n",
    "        Volt_w = 30\n",
    "        Volt_0 = V0 \n",
    "        delta = 1612.*Volt_w / Volt_0\n",
    "        Vw = 0.5*(m*wz**2/q)*delta\n",
    "        \n",
    "        x = pos_array[0:Nion]\n",
    "        y = pos_array[Nion:2*Nion]\n",
    "        \n",
    "        dx = x.reshape((x.size, 1)) - x\n",
    "        dy = y.reshape((y.size, 1)) - y\n",
    "        rsep = np.sqrt(dx ** 2 + dy ** 2)\n",
    "\n",
    "        # Calculate coulomb force on each ion\n",
    "        with np.errstate(divide='ignore'):\n",
    "            Fc = np.where(rsep != 0., rsep ** (-2), 0)\n",
    "\n",
    "        with np.errstate(divide='ignore', invalid='ignore'):\n",
    "            fx = np.where(rsep != 0., np.float64((dx / rsep) * Fc), 0)*q**2/(4*np.pi*eps0)\n",
    "            fy = np.where(rsep != 0., np.float64((dy / rsep) * Fc), 0)*q**2/(4*np.pi*eps0)\n",
    "\n",
    "        '''\n",
    "        dx = x.reshape((x.size, 1)) - x\n",
    "        dy = y.reshape((y.size, 1)) - y\n",
    "        dz = z.reshape((z.size, 1)) - z\n",
    "        rsep = np.sqrt(dx ** 2 + dy ** 2 + dz ** 2)\n",
    "\n",
    "        # Calculate coulomb force on each ion\n",
    "        with np.errstate(divide='ignore'):\n",
    "            Fc = np.where(rsep != 0., rsep ** (-2), 0)\n",
    "\n",
    "        with np.errstate(divide='ignore', invalid='ignore'):\n",
    "            fx = np.where(rsep != 0., np.float64((dx / rsep) * Fc), 0)\n",
    "            fy = np.where(rsep != 0., np.float64((dy / rsep) * Fc), 0)\n",
    "            fz = np.where(rsep != 0., np.float64((dz / rsep) * Fc), 0)\n",
    "        '''\n",
    "\n",
    "        # total force on each ion\n",
    "\n",
    "        \"\"\" Deprecated version below which uses anharmonic trap potentials\n",
    "        Ftrapx = (-m * wr ** 2 - q * self.Coeff[2] + q * B * wr + 2 * self.Cw2) * x \\\n",
    "            - 4 * q * self.Coeff[3] * (x ** 3 + x * y ** 2) + 3 * self.Cw3 * (x ** 2 - y ** 2)\n",
    "        Ftrapy = (-m * wr ** 2 - q * self.Coeff[2] + q * B * wr - 2 * self.Cw2) * y \\\n",
    "            - 4 * q * self.Coeff[3] * (y ** 3 + y * x ** 2) - 6 * self.Cw3 * x * y\n",
    "\n",
    "        # Ftrap =  (m*w**2 + q*self.V0 - 2*q*self.Vw - q*self.B* w) * pos_array\n",
    "        \"\"\"\n",
    "        Ftrapx = -m * (wr ** 2 - wr * wc + 0.5*wz**2 -\n",
    "                                 q*Vw) * x\n",
    "        Ftrapy = -m * (wr ** 2 - wr * wc + 0.5*wz**2 +\n",
    "                                 q*Vw) * y\n",
    "        Fx = -np.sum(fx, axis=1) + Ftrapx\n",
    "        Fy = -np.sum(fy, axis=1) + Ftrapy\n",
    "\n",
    "        return np.array([Fx, Fy]).flatten()"
   ]
  },
  {
   "cell_type": "code",
   "execution_count": 37,
   "id": "205c34eb",
   "metadata": {},
   "outputs": [
    {
     "name": "stdout",
     "output_type": "stream",
     "text": [
      "2.251792976754224e-18\n"
     ]
    }
   ],
   "source": [
    "nion = 236\n",
    "forces = force_penning(pos, nion)\n",
    "forces2D = np.zeros(nion)\n",
    "for i in range(nion):\n",
    "    forces2D = (forces[i]**2 + forces[i+nion]**2)**0.5\n",
    "print(np.mean(forces2D))"
   ]
  },
  {
   "cell_type": "code",
   "execution_count": 5,
   "id": "f408dc4e",
   "metadata": {},
   "outputs": [
    {
     "data": {
      "image/png": "[encoded data removed]",
      "text/plain": [
       "<Figure size 432x288 with 1 Axes>"
      ]
     },
     "metadata": {
      "needs_background": "light"
     },
     "output_type": "display_data"
    },
    {
     "name": "stdout",
     "output_type": "stream",
     "text": [
      "[ 0.00000000e+00  0.00000000e+00  5.87905692e-06  5.87905692e-06\n",
      "  0.00000000e+00 -5.87905692e-06 -5.87905692e-06]\n",
      "[ 0.00000000e+00  6.78855019e-06  3.39427509e-06 -3.39427509e-06\n",
      " -6.78855019e-06 -3.39427509e-06  3.39427509e-06]\n"
     ]
    }
   ],
   "source": [
    "ax = plt.subplot()\n",
    "ax.axis('equal')\n",
    "ax.scatter(pos0[0:ma_instance.Nion]*1e6,pos0[ma_instance.Nion:]*1e6)\n",
    "plt.show()\n",
    "print(pos0[:num_ions])\n",
    "print(pos0[num_ions:])"
   ]
  },
  {
   "cell_type": "code",
   "execution_count": 90,
   "id": "b32c11f5",
   "metadata": {},
   "outputs": [
    {
     "data": {
      "image/png": "[encoded data removed]",
      "text/plain": [
       "<Figure size 432x288 with 1 Axes>"
      ]
     },
     "metadata": {
      "needs_background": "light"
     },
     "output_type": "display_data"
    },
    {
     "name": "stdout",
     "output_type": "stream",
     "text": [
      "[0.94196335 0.95068552 0.96143477 0.962406   0.96748798 0.97018152\n",
      " 0.9758132  0.97707469 0.98776937 1.        ]\n",
      "[2.96958565e-03 6.75071009e-03 7.23495689e-03 9.55261041e-03\n",
      " 9.83408335e-03 1.16189620e-02 1.26467813e-02 1.41073928e-02\n",
      " 1.50496484e-02 1.76049347e-02 4.58818195e+00 4.59082922e+00\n",
      " 4.59311763e+00 4.59338235e+00 4.59457647e+00 4.59513548e+00\n",
      " 4.59620621e+00 4.59639899e+00 4.59864110e+00 4.60042158e+00]\n"
     ]
    }
   ],
   "source": [
    "ma_instance.show_axial_Evals()\n",
    "print(ma_instance.axialEvals)\n",
    "print(ma_instance.planarEvals)\n",
    "evals = np.sort(np.append(ma_instance.axialEvalsE,ma_instance.planarEvalsE))"
   ]
  },
  {
   "cell_type": "code",
   "execution_count": 91,
   "id": "7dbad97d",
   "metadata": {},
   "outputs": [
    {
     "data": {
      "text/plain": [
       "Text(0, 0.5, '$Frequency\\\\; (MHz)$')"
      ]
     },
     "execution_count": 91,
     "metadata": {},
     "output_type": "execute_result"
    },
    {
     "data": {
      "image/png": "[encoded data removed]",
      "text/plain": [
       "<Figure size 720x720 with 1 Axes>"
      ]
     },
     "metadata": {
      "needs_background": "light"
     },
     "output_type": "display_data"
    }
   ],
   "source": [
    "fig = plt.figure(figsize=(10,10))\n",
    "ax = fig.add_subplot()\n",
    "ax.plot(np.arange(10*3), evals/(2*np.pi*10**6), linestyle = \" \", marker = \".\")\n",
    "plt.xticks(fontsize=25)\n",
    "plt.yticks(fontsize=25)\n",
    "plt.xlabel(r'$mode\\;number$',fontsize = 30)\n",
    "plt.ylabel(r'$Frequency\\; (MHz)$',fontsize = 30)"
   ]
  },
  {
   "cell_type": "code",
   "execution_count": 191,
   "id": "d2f2f25e",
   "metadata": {},
   "outputs": [
    {
     "name": "stdout",
     "output_type": "stream",
     "text": [
      "[1488302.09183657 1502083.12450158 1519066.94090341 1520601.47458986\n",
      " 1528631.00394449 1532886.79433732 1541784.86235623 1543778.01596337\n",
      " 1560675.59956458 1580000.        ]\n",
      "[4.69194532e+03 1.06661219e+04 1.14312319e+04 1.50931245e+04\n",
      " 1.55378517e+04 1.83579600e+04 1.99819145e+04 2.22896806e+04\n",
      " 2.37784445e+04 2.78157969e+04 7.24932748e+06 7.25351016e+06\n",
      " 7.25712585e+06 7.25754411e+06 7.25943082e+06 7.26031405e+06\n",
      " 7.26200581e+06 7.26231041e+06 7.26585294e+06 7.26866609e+06]\n"
     ]
    }
   ],
   "source": [
    "print(ma_instance.axialEvalsE/(2*np.pi))\n",
    "print(ma_instance.planarEvalsE/(2*np.pi))"
   ]
  },
  {
   "cell_type": "code",
   "execution_count": 35,
   "id": "1d1b8e59",
   "metadata": {},
   "outputs": [
    {
     "data": {
      "text/plain": [
       "<FMM3D.python.fmm3dpy.fmm3d.Output at 0x7f984274d1f0>"
      ]
     },
     "execution_count": 35,
     "metadata": {},
     "output_type": "execute_result"
    }
   ],
   "source": [
    "sources = np.array([pos[0:ma_instance.Nion],pos[ma_instance.Nion:],np.zeros(ma_instance.Nion)])\n",
    "charges = np.full(ma_instance.Nion, 1.602176597458587e-19)\n",
    "fmm.lfmm3d(eps=10**-7,sources=sources,charges=charges,dipvec=None,targets=None,pg=2,pgt=0,nd=1)"
   ]
  },
  {
   "cell_type": "code",
   "execution_count": 3,
   "id": "e29fa10d",
   "metadata": {},
   "outputs": [],
   "source": [
    "import mode_analysis_code_original_fmm as ma_fmm"
   ]
  },
  {
   "cell_type": "code",
   "execution_count": 6,
   "id": "5e47ca40",
   "metadata": {},
   "outputs": [],
   "source": [
    "num_ions=7\n",
    "mass_amu=9.012182\n",
    "vtrap=(0.0, -1750.0, -1970.0)\n",
    "v_wall=5.\n",
    "frot=180000\n",
    "method='bfgs'\n",
    "frot_kHz = 1e-3*frot \n",
    "\n",
    "ma_instance_fmm=ma_fmm.ModeAnalysis(\n",
    "            N      = num_ions,\n",
    "            ionmass= mass_amu,\n",
    "            Vtrap  = vtrap,\n",
    "            omega_z = 2*np.pi*1.58e6,\n",
    "            Vwall  = v_wall,\n",
    "            frot   = frot_kHz,\n",
    "            method = method)\n",
    "\n",
    "eq_pos_3D = np.append(ma_instance.uE, np.zeros(7))\n",
    "#print(eq_pos_3D)\n",
    "ma_instance_fmm.run3D(eq_pos_3D)"
   ]
  },
  {
   "cell_type": "code",
   "execution_count": 28,
   "id": "53740069",
   "metadata": {},
   "outputs": [
    {
     "data": {
      "text/plain": [
       "(50001, 236)"
      ]
     },
     "execution_count": 28,
     "metadata": {},
     "output_type": "execute_result"
    }
   ],
   "source": [
    "sfx = \"_rot_236i_vel_pert_030622.dat\"\n",
    "load_xrot = np.loadtxt(\"x\" + sfx + \".csv\")\n",
    "load_yrot = np.loadtxt(\"y\" + sfx + \".csv\")\n",
    "load_zrot = np.loadtxt(\"z\" + sfx + \".csv\")\n",
    "load_vxrot = np.loadtxt(\"vx\" + sfx + \".csv\")\n",
    "load_vyrot = np.loadtxt(\"vy\" + sfx + \".csv\")\n",
    "load_vzrot = np.loadtxt(\"vz\" + sfx + \".csv\")\n",
    "load_xrot.shape"
   ]
  },
  {
   "cell_type": "code",
   "execution_count": 31,
   "id": "5afb37a2",
   "metadata": {},
   "outputs": [
    {
     "name": "stdout",
     "output_type": "stream",
     "text": [
      "(50001, 236)\n",
      "[0.0199996 0.0199996 0.0199996 ... 0.0199996 0.0199996 0.0199996]\n"
     ]
    }
   ],
   "source": [
    "load_rrot = np.zeros((50001,236))\n",
    "#load_rrot = np.zeros((100001,10))\n",
    "load_rrot = np.sqrt(load_xrot**2+load_yrot**2)\n",
    "print(load_rrot.shape)\n",
    "ps, freqs_norm = cry_mod.psd(load_zrot, 10**-9)\n",
    "print(np.diff(freqs_norm))"
   ]
  },
  {
   "cell_type": "code",
   "execution_count": 32,
   "id": "9e1e2ff4",
   "metadata": {},
   "outputs": [
    {
     "name": "stdout",
     "output_type": "stream",
     "text": [
      "[1.58216281e-03 5.30369602e-03 5.29256804e-03 2.90498271e-03\n",
      " 2.63130709e-03 2.34101445e-03 5.54069476e-03 4.12071986e-03\n",
      " 2.46549353e-03 1.93094672e-03 2.11707620e-03 2.84637974e-03\n",
      " 3.11296020e-03 3.49581580e-03 1.49848536e-03 2.25803709e-03\n",
      " 2.21751017e-03 2.35113508e-03 2.34864538e-03 1.77260117e-03\n",
      " 8.92987932e-04 3.23985447e-03 1.00018379e-03 2.90973175e-03\n",
      " 6.32172213e-04 3.14861491e-03 2.65464690e-03 1.00634842e-03\n",
      " 2.61296037e-03 2.24270589e-03 8.41560783e-04 3.44716998e-03\n",
      " 9.85544498e-04 1.32816317e-03 1.79449035e-03 1.65809368e-03\n",
      " 1.98501719e-03 2.48509133e-03 1.49940193e-03 1.13181085e-03\n",
      " 2.52528508e-03 1.36056731e-03 1.47856347e-03 2.04588650e-03\n",
      " 8.05180858e-04 1.42211922e-03 1.74926300e-03 1.08525764e-03\n",
      " 2.32136294e-03 1.22713325e-04 1.70032167e-03 1.49895691e-03\n",
      " 6.47828583e-04 1.58529991e-03 1.89263432e-03 1.41980916e-03\n",
      " 2.32064620e-03 7.08065880e-04 1.57829522e-03 1.18542369e-03\n",
      " 1.16880788e-03 2.18729104e-03 1.36925022e-03 1.17535526e-03\n",
      " 9.78865550e-04 1.39711893e-03 1.73127973e-03 8.95349718e-04\n",
      " 2.63646329e-03 1.39107362e-03 6.37883720e-04 9.58962442e-04\n",
      " 2.21319880e-03 1.67198415e-03 1.30529150e-03 1.51975296e-03\n",
      " 8.50317064e-04 1.39434579e-03 1.47981834e-03 9.06225637e-04\n",
      " 1.93488025e-03 1.59848858e-03 1.77898655e-03 8.25553560e-04\n",
      " 2.54724138e-03 9.24658648e-04 2.20740958e-03 1.07165249e-03\n",
      " 2.02064878e-03 1.60358939e-03 1.87736069e-03 7.76084013e-04\n",
      " 1.34497846e-03 3.33097768e-04 1.45410309e-03 2.01123396e-03\n",
      " 1.31462591e-03 2.26626773e-03 1.14003542e-03 1.66185718e-03\n",
      " 2.15241217e-03 1.45846738e-03 1.14412341e-03 1.55902462e-03\n",
      " 2.58605251e-03 1.31701961e-03 1.10377745e-03 1.76112513e-03\n",
      " 1.54865126e-03 1.22819583e-03 7.26336276e-04 1.01168772e-03\n",
      " 1.42580082e-03 9.90028211e-04 1.62965995e-03 2.21506385e-03\n",
      " 1.56402541e-03 6.54896469e-04 1.05931437e-03 2.99594883e-03\n",
      " 1.29756103e-03 8.33750400e-04 1.05201133e-03 2.35847746e-03\n",
      " 1.18261359e-03 1.04106830e-03 1.21737590e-03 2.53146578e-03\n",
      " 3.99774196e-04 1.98379726e-03 7.67354738e-04 9.76864992e-04\n",
      " 1.85703546e-03 1.85617137e-03 1.01515924e-03 1.52704350e-03\n",
      " 2.44435621e-03 1.05151008e-03 1.32595665e-03 8.77050246e-04\n",
      " 2.10782869e-03 2.64235561e-03 4.99221406e-04 1.93427569e-03\n",
      " 6.96053707e-04 1.22342761e-03 1.91212188e-03 4.96073829e-04\n",
      " 2.30629616e-03 1.15455418e-03 1.63635746e-03 1.33355831e-03\n",
      " 1.04275549e-03 1.95977324e-03 2.05502707e-03 6.04736208e-04\n",
      " 1.07197053e-03 1.92648899e-03 1.54330694e-03 1.69864535e-03\n",
      " 1.21487381e-03 1.17894822e-03 7.39801225e-04 2.17491114e-03\n",
      " 1.32078283e-03 9.37454950e-04 9.11220553e-04 1.06412755e-03\n",
      " 1.44115746e-03 1.08581708e-03 3.70162930e-03 1.36184510e-03\n",
      " 1.48994773e-03 1.58283162e-03 5.00207116e-04 2.01418224e-03\n",
      " 9.98588224e-04 2.43706824e-03 1.24935890e-03 1.28944152e-03\n",
      " 7.87348268e-04 8.42747265e-04 2.37992470e-03 1.91155794e-03\n",
      " 1.78631983e-03 1.97094704e-03 1.70003157e-03 1.68023304e-03\n",
      " 1.48493871e-03 1.96173419e-03 1.36874748e-03 1.62319240e-03\n",
      " 8.66379785e-04 1.72796869e-03 2.50996712e-03 2.42909465e-03\n",
      " 1.19914169e-03 1.90374483e-03 2.20659950e-03 1.25268122e-03\n",
      " 1.89129091e-03 1.94717819e-03 2.20250367e-03 1.31978270e-03\n",
      " 2.61781649e-03 1.86528434e-03 1.99010706e-03 2.05913179e-03\n",
      " 1.06643879e-03 3.57320202e-03 1.53272704e-03 2.78518239e-03\n",
      " 3.44729847e-03 5.82978699e-04 1.69092969e-03 1.56744257e-03\n",
      " 2.50319344e-03 3.45716054e-03 1.16376683e-03 4.03041237e-03\n",
      " 1.79044698e-03 3.91827582e-03 3.10002245e-03 2.00918129e-03\n",
      " 3.75653829e-03 8.87994832e-03 3.55438134e-03 1.15983516e-02\n",
      " 1.37181598e-02 2.12564342e-03 1.52511974e-02 8.06254797e-03\n",
      " 4.66089075e-03 5.51093085e-03 1.17413962e-03 2.92031434e-01\n",
      " 7.41509655e-03 5.10562500e-03 6.34516509e-03 1.26193691e-02\n",
      " 9.98864231e-03 8.73638214e-03 6.09441450e-03 5.99940779e-03\n",
      " 1.02178649e-02 8.43733914e-03 5.02515675e-03 1.03026966e-02\n",
      " 4.32905656e-03 1.46219995e-02 7.75030740e-03 4.84967232e-03\n",
      " 8.34092114e-03 5.74023783e-03 5.46075293e-03 1.19600727e-02\n",
      " 3.49567271e-03 6.13783265e-03 1.03740890e-02 5.18125364e-03\n",
      " 9.58080331e-03 6.04426408e-03 1.09982798e-02 3.63046756e-03\n",
      " 1.05133383e-02 1.14843159e-02 9.59301358e-03 7.46814777e-03\n",
      " 1.17060441e-03 9.76933242e-03 8.55597328e-03 5.04787824e-03\n",
      " 4.73974690e-03 9.06588771e-03 4.53056320e-03 9.57217000e-03\n",
      " 5.52660770e-03 5.59039541e-03 1.17601512e-02 7.12990319e-03\n",
      " 6.67728041e-03 3.06288690e-03 1.69004309e-02 2.14638782e-03\n",
      " 3.66663922e-03 3.43091009e-03 6.31822377e-03 1.29544490e-02\n",
      " 1.07222900e-02 3.38640083e-03 1.28918049e-02 7.79652944e-03\n",
      " 5.95100951e-03 1.01453806e-03 3.32039130e-03 6.62651024e-03\n",
      " 1.00570953e-02 2.79779307e-03 8.98654203e-03 8.64531195e-03\n",
      " 5.14643334e-03 4.05048782e-03 7.30944260e-03 1.53132160e-03\n",
      " 9.29988676e-03 7.80341219e-03 8.15843185e-03 6.98024123e-03\n",
      " 6.00736665e-03 8.93656229e-03 2.70510278e-03 6.77214746e-03\n",
      " 3.35731250e-03 6.49167492e-03 3.89112068e-03 4.74178193e-03\n",
      " 4.67163652e-03 4.14708099e-03 5.21164744e-03 2.68884829e-03\n",
      " 4.79351657e-03 6.46251981e-03 4.13188870e-03 5.16860423e-03\n",
      " 1.93148022e-03 4.15101406e-03 1.01822335e-02 4.97315011e-03\n",
      " 6.24330441e-03 6.55667375e-03 2.88632424e-03 1.00175358e-03\n",
      " 9.35739776e-03 6.52755433e-03 2.27678257e-03 9.43425955e-03\n",
      " 3.24848012e-03 7.34970053e-03 6.69983093e-03 4.67006575e-03\n",
      " 7.21279795e-03 4.60173795e-03 2.85491408e-03 6.68550301e-03\n",
      " 4.82791460e-03 2.92474010e-03 3.61990643e-03 6.79844393e-03\n",
      " 1.97938234e-03 3.69523458e-03 4.17601465e-03 6.29861092e-03\n",
      " 6.79421756e-03 4.70077605e-03 3.22548758e-03 6.24804772e-03\n",
      " 3.48009977e-03 1.37020961e-02 4.40449656e-03 4.88833016e-03\n",
      " 7.28497506e-03 3.31062504e-03 5.28635369e-03 4.46854425e-03\n",
      " 3.72987563e-03 3.25648237e-03 3.34865739e-03 2.32237845e-03\n",
      " 9.63138026e-03 3.13452160e-03 5.36046654e-03 8.09169711e-03\n",
      " 1.96825707e-03 5.35914288e-03 8.49289032e-04 4.75700923e-03\n",
      " 2.39532029e-03 1.03181708e-02 4.29328589e-03 4.80441084e-03\n",
      " 4.92940967e-03 3.33544710e-03 7.18063728e-03 6.37847713e-03\n",
      " 8.79436640e-03 2.46512143e-03 2.41625015e-03 5.45713527e-03\n",
      " 2.45324859e-03 6.57137252e-03 6.77510012e-03 3.38444783e-03\n",
      " 2.43270008e-03 4.39926027e-03 5.30259305e-03 3.66584218e-03\n",
      " 6.27397119e-03 7.69762607e-03 8.79756312e-03 3.72606199e-03\n",
      " 8.94413493e-03 2.58443882e-03 4.39846814e-03 3.80684247e-03\n",
      " 4.29219509e-03 5.67004994e-03 7.47332544e-03 4.04075913e-03\n",
      " 5.43297249e-03 1.37393371e-03 3.31008554e-03 1.20893992e-02\n",
      " 9.77326967e-03 2.85388921e-03 8.00713539e-03 4.12064091e-03\n",
      " 4.05257075e-03 5.79054290e-03 3.70744642e-03 1.19912567e-02\n",
      " 6.56152502e-03 3.09030665e-03 1.40713360e-02 7.40933635e-03\n",
      " 1.09983276e-02 8.54455753e-03 4.99996052e-03 3.23012124e-03\n",
      " 7.91111085e-03 7.69670994e-03 5.20260873e-03 6.43546909e-03\n",
      " 6.78822767e-03 1.39457079e-02 8.56627936e-03 7.01374044e-03\n",
      " 3.81863887e-03 6.70783782e-03 6.51772974e-03 1.38487084e-02\n",
      " 2.91775759e-03 8.42755154e-03 5.31704861e-03 1.39399016e-02\n",
      " 4.98233291e-03 1.43443385e-02 4.84896373e-03 8.70880127e-03\n",
      " 1.61732856e-02 2.86933077e-03 6.70660410e-03 2.32430334e-02\n",
      " 1.22544140e-02 6.18126082e-03 4.83225145e-03 1.08370506e-02\n",
      " 9.78797140e-03 1.36825782e-02 9.29896816e-03 9.01301590e-03\n",
      " 2.73115109e-02 2.07547449e-02 2.06053063e-02 8.77096133e-03\n",
      " 1.89777057e-02 3.79147830e-03 1.30428612e-02 4.78627034e-02\n",
      " 3.74254060e-02 3.60924657e-02 1.05638814e-02 4.20037315e+00\n",
      " 3.78590133e-03 1.29640038e-02 1.32500464e-02 1.72301371e-02\n",
      " 3.29334272e-03 2.10289929e-03 6.52068948e-03 2.99065309e-03\n",
      " 6.60739242e-03 7.42453122e-03 9.23690891e-03 2.21007806e-03\n",
      " 3.22047644e-03 4.40390633e-03 3.14890901e-03 3.62115511e-03\n",
      " 8.91707244e-04 2.21367883e-03 3.71173062e-03 7.50755874e-03\n",
      " 2.20748228e-04 2.10394201e-03 5.70576311e-03 1.78107809e-03\n",
      " 1.88091679e-03 4.27952622e-03 1.70013384e-03 4.71923654e-03\n",
      " 1.36138337e-03 1.92611589e-03 9.68998918e-04 3.54507867e-03\n",
      " 1.45937949e-03 2.43627972e-03 1.29062591e-03 2.54840356e-03\n",
      " 1.62581633e-03 3.84733955e-03 1.71213067e-03 2.88266187e-03\n",
      " 6.62400448e-04 2.39587566e-03 1.99295685e-03 9.85926789e-04\n",
      " 2.02534284e-03 1.61342353e-03 2.95800751e-03 2.19974599e-03\n",
      " 3.63120395e-03 1.10153773e-03 1.70457447e-03 3.49141844e-03\n",
      " 5.76769951e-04 1.95116420e-03 8.97773580e-04 6.59828394e-04\n",
      " 2.59112286e-03 1.51961118e-03 1.71621658e-03 3.51002871e-03\n",
      " 3.02338268e-04 5.57728421e-04 1.78609944e-03 1.64078465e-03\n",
      " 7.61215381e-04 1.24018314e-03 1.42871247e-03 5.52507035e-04\n",
      " 1.12004122e-03 7.34922198e-04 2.54629006e-03 6.76095787e-04\n",
      " 2.31351772e-03 1.57257890e-03 7.56002026e-04 4.79581996e-04\n",
      " 1.70028493e-03 1.50152618e-03 6.38767240e-04 1.08462235e-03\n",
      " 2.04773425e-03 1.00201899e-03 1.31052956e-04 1.76772553e-03\n",
      " 5.15472824e-04 4.26799586e-04 2.04280655e-03 1.29830789e-03\n",
      " 2.37733060e-03 1.00332770e-03 5.78920102e-04 8.32801954e-04\n",
      " 2.04423252e-03 1.90519228e-03 7.76421313e-04 8.46885553e-04\n",
      " 4.26820959e-04 3.89097087e-04 7.58168571e-04 2.33214059e-03\n",
      " 1.20032464e-04 7.24342303e-04 3.14847619e-03 2.28347966e-04\n",
      " 7.59704982e-04 9.81701575e-04 1.01110408e-03 7.79326000e-04\n",
      " 1.22952592e-03 8.58431812e-04 1.23033158e-03 1.30688247e-03\n",
      " 6.52927645e-04 2.79192513e-03 7.50264727e-04 1.78087568e-03\n",
      " 5.15549121e-04 8.89877646e-04 5.67006011e-04 1.23020468e-03\n",
      " 1.73024316e-03 1.71703779e-03 3.78666921e-04 1.56676660e-03\n",
      " 6.41913736e-04 7.14161380e-04 1.54262088e-03 6.07189923e-04\n",
      " 5.21559854e-04 1.85956137e-03 3.00993375e-04 1.66103469e-03\n",
      " 1.19873187e-03 1.11355193e-03 7.77149614e-04 9.49269925e-04\n",
      " 2.88133489e-04 1.94936284e-03 1.24779143e-03 8.61901514e-04\n",
      " 1.05372434e-03 1.14278312e-03 7.17920463e-04 1.09780828e-03\n",
      " 1.71083291e-03 9.80025827e-04 7.24133139e-04 1.06941579e-03\n",
      " 3.50135838e-04 1.44208948e-03 7.65306340e-04 7.18403592e-04\n",
      " 4.56454717e-04 8.66299365e-04 1.45072949e-03 1.28556966e-03\n",
      " 4.70494674e-04 1.27049982e-03 1.13181239e-03 9.56104142e-04\n",
      " 1.50848301e-03 9.89407406e-04 7.07509377e-04 1.90245928e-03\n",
      " 3.13736907e-04 6.60751324e-04 1.11050807e-03 1.12326390e-03\n",
      " 1.50663654e-03 1.39450881e-03 5.08081476e-04 3.40026469e-04\n",
      " 1.56082642e-03 1.31486547e-03 9.95973487e-04 1.38717848e-03\n",
      " 1.29555138e-03 4.11152385e-04 2.88007433e-03 6.52074258e-04\n",
      " 1.19596731e-03 1.82321877e-03 4.95863837e-04 1.22094355e-03\n",
      " 2.05346449e-03 3.53234756e-04 8.06465670e-04 6.88958218e-04\n",
      " 7.42471282e-04 1.56152354e-03 7.69865450e-04 1.52533419e-03\n",
      " 6.86137183e-04 2.93297980e-03 3.49561019e-04 9.82823048e-04\n",
      " 2.67729507e-04 1.42657845e-03 5.89062658e-04 1.29168094e-03\n",
      " 9.83508253e-04 1.32334914e-03 6.41820868e-04 1.04191718e-03\n",
      " 1.24846603e-03 1.29648243e-03 9.91930863e-04 5.92872858e-04\n",
      " 1.02646852e-03 9.43109052e-04 1.07908349e-03 1.10854959e-03\n",
      " 7.89343201e-04 8.99987370e-04 7.66296175e-04 9.26028238e-04\n",
      " 1.18523610e-03 1.02131886e-03 1.22086790e-03 4.68624509e-04\n",
      " 3.21334606e-04 1.17335862e-03 1.24508232e-03 3.58952121e-04\n",
      " 2.17871438e-03 1.52980413e-03 5.67100581e-04 1.28051525e-03\n",
      " 6.88149010e-04 1.04474953e-03 1.11280228e-03 5.09297550e-04\n",
      " 1.04337994e-03 1.24411394e-03 1.53308013e-03]\n"
     ]
    },
    {
     "data": {
      "image/png": "[encoded data removed]",
      "text/plain": [
       "<Figure size 720x720 with 1 Axes>"
      ]
     },
     "metadata": {
      "needs_background": "light"
     },
     "output_type": "display_data"
    }
   ],
   "source": [
    "fig = plt.figure(figsize=(10,10))\n",
    "ax = fig.add_subplot()\n",
    "ax.set_xlim(6.5,7.2)\n",
    "ax.set_xlim(0,10)\n",
    "cry_mod.plot_psd(freqs_norm,ps,ax,fig)\n",
    "#ax.axvline(x = 6.8)\n",
    "#ax.axvline(x = 2.2)\n",
    "#ax.axvline(x = 0.4)\n",
    "#ax.axvline(x = 1.54)\n",
    "#ax.axvline(x = 7.26)\n",
    "i=0\n",
    "while i < ma_instance_fmm.EvalsE3D.size:\n",
    "    ax.axvline(x = ma_instance_fmm.EvalsE3D[i]/(2*np.pi*10**6))\n",
    "    i+=40\n",
    "print(np.diff(ma_instance_fmm.EvalsE3D/(2*np.pi*10**6)))"
   ]
  },
  {
   "cell_type": "code",
   "execution_count": null,
   "id": "e277f1c6",
   "metadata": {},
   "outputs": [],
   "source": [
    "ps_rad,freq_norm_rad = cry_mod.psd(load_zrot,10**-9)\n",
    "\n",
    "fig = plt.figure(figsize=(11,8.5),constrained_layout=False)\n",
    "gs  = fig.add_gridspec(2, 2)\n",
    "ax1 = fig.add_subplot(gs[0, :])\n",
    "ax2 = fig.add_subplot(gs[1, :])\n",
    "\n",
    "num_particles = 256\n",
    "#mag_modes = np.arange(0,num_particles)\n",
    "#normal_freqs = all_normal_freqs[mag_modes]\n",
    "#ax1.axvline(omegaminus/units/np.pi/2\n",
    "#            ,color='c'\n",
    "#            ,label=r'$f_-$'\n",
    "#            ,zorder=2)\n",
    "cry_mod.plot_psd(freq_norm_rad,ps_rad,ax1,fig,label='C++ simulation',color='b')    \n",
    "ax1.fill_between(freq_norm_rad,ps_rad,-30\n",
    "        ,color='b'\n",
    "        ,zorder=3\n",
    "        )\n",
    "\n",
    "secax_x = ax1.secondary_xaxis('top')\n",
    "secax_x.set_xlabel('Mode #',fontsize=20)\n",
    "labels  = np.array(list(map(str, (mag_modes+1))),dtype='<U5')\n",
    "print(normal_freqs)\n",
    "print(labels)\n",
    "#freqs,labels = get_mode_ticks(labels,normal_freqs)\n",
    "ax1.tick_params(axis='x', labelsize=16)\n",
    "ax1.tick_params(axis='y', labelsize=16)\n",
    "#secax_x.set_xticks(freqs) \n",
    "secax_x.set_xticklabels(labels,fontsize=16)\n",
    "ax1.legend(loc='lower left')\n",
    "ax1.set_title('ExB Branch',fontsize=30)\n",
    "ax1.set_xlim(-1,1)\n",
    "\n",
    "\n",
    "\n",
    "\n",
    "plt.tight_layout()\n",
    "#plt.savefig(pdir+'psd_comparison_nlVlin_'+lab_sim+'.png')\n",
    "plt.show()"
   ]
  },
  {
   "cell_type": "code",
   "execution_count": 20,
   "id": "0f38d877",
   "metadata": {},
   "outputs": [
    {
     "data": {
      "text/plain": [
       "'\\ntimes_rec = 401\\nnum_particles = 1000\\nload_pos_rot3D = np.zeros((times_rec,3,num_particles))\\nload_pos_rot2D = np.zeros((times_rec,2,num_particles))\\nload_vel_rot3D = np.zeros((times_rec,3,num_particles))\\nload_pos_rot3D[:,0,:] = load_xrot\\nload_pos_rot3D[:,1,:] = load_yrot\\nload_pos_rot3D[:,2,:] = load_zrot\\nload_pos_rot2D[:,0,:] = load_xrot\\nload_pos_rot2D[:,1,:] = load_yrot\\nload_vel_rot3D[:,0,:] = load_vxrot\\nload_vel_rot3D[:,1,:] = load_vyrot\\nload_vel_rot3D[:,2,:] = load_vzrot\\n'"
      ]
     },
     "execution_count": 20,
     "metadata": {},
     "output_type": "execute_result"
    }
   ],
   "source": [
    "#sfx = \"_rot_dec_1000i_w2_d7_f7_t10.dat\"\n",
    "sfx = \"_1000i_mode_spectrum.dat\"\n",
    "load_xrot = np.loadtxt(\"x\" + sfx + \".csv\")\n",
    "load_yrot = np.loadtxt(\"y\" + sfx + \".csv\")\n",
    "load_zrot = np.loadtxt(\"z\" + sfx + \".csv\")\n",
    "load_vxrot = np.loadtxt(\"vx\" + sfx + \".csv\")\n",
    "load_vyrot = np.loadtxt(\"vy\" + sfx + \".csv\")\n",
    "load_vzrot = np.loadtxt(\"vz\" + sfx + \".csv\")\n",
    "'''\n",
    "times_rec = 401\n",
    "num_particles = 1000\n",
    "load_pos_rot3D = np.zeros((times_rec,3,num_particles))\n",
    "load_pos_rot2D = np.zeros((times_rec,2,num_particles))\n",
    "load_vel_rot3D = np.zeros((times_rec,3,num_particles))\n",
    "load_pos_rot3D[:,0,:] = load_xrot\n",
    "load_pos_rot3D[:,1,:] = load_yrot\n",
    "load_pos_rot3D[:,2,:] = load_zrot\n",
    "load_pos_rot2D[:,0,:] = load_xrot\n",
    "load_pos_rot2D[:,1,:] = load_yrot\n",
    "load_vel_rot3D[:,0,:] = load_vxrot\n",
    "load_vel_rot3D[:,1,:] = load_vyrot\n",
    "load_vel_rot3D[:,2,:] = load_vzrot\n",
    "'''"
   ]
  },
  {
   "cell_type": "code",
   "execution_count": 3,
   "id": "6d2c98e5",
   "metadata": {},
   "outputs": [],
   "source": [
    "num_ions = 236\n",
    "load_xrot = np.loadtxt('x_236i_eq_scipy.csv')\n",
    "load_yrot = np.loadtxt('y_236i_eq_scipy.csv')\n",
    "load_zrot = np.loadtxt('z_236i_eq_scipy.csv')\n",
    "#start_pos_x = load_xrot[-1]\n",
    "#start_pos_y = load_yrot[-1]\n",
    "#start_pos_z = load_zrot[-1]\n",
    "start_pos_x = load_xrot\n",
    "start_pos_y = load_yrot\n",
    "start_pos_z = load_zrot"
   ]
  },
  {
   "cell_type": "code",
   "execution_count": 22,
   "id": "f7be8355",
   "metadata": {},
   "outputs": [
    {
     "name": "stdout",
     "output_type": "stream",
     "text": [
      "(3000,)\n"
     ]
    }
   ],
   "source": [
    "num_ions=1000\n",
    "mass_amu=9.012182\n",
    "omega_z = 2*np.pi*1.58e6\n",
    "q = 1.602176597458587e-19\n",
    "Bz =4.4588\n",
    "m = mass_amu*1.66057e-27\n",
    "wc = q*Bz/m\n",
    "omega_R = (wc-np.sqrt(wc**2-6*omega_z**2))/2\n",
    "mass_amu=9.012182\n",
    "vtrap=(0.0, -1750.0, -1970.0)\n",
    "v_wall=30.\n",
    "frot=omega_R/(2*np.pi)\n",
    "method='bfgs'\n",
    "frot_kHz = 1e-3*frot \n",
    "\n",
    "ma_instance_fmm=ma_fmm.ModeAnalysis(\n",
    "            N      = num_ions,\n",
    "            ionmass= mass_amu,\n",
    "            Vtrap  = vtrap,\n",
    "            omega_z = 2*np.pi*1.58e6,\n",
    "            Vwall  = v_wall,\n",
    "            frot   = frot_kHz,\n",
    "            method = method)\n",
    "\n",
    "#pos_3D = np.concatenate([load_pos_rot3D[-1,0,:],load_pos_rot3D[-1,1,:],load_pos_rot3D[-1,2,:]])\n",
    "pos_3D = np.concatenate([load_xrot,load_yrot,load_zrot])\n",
    "print(pos_3D.shape)\n",
    "#eq_pos_3D = np.append(ma_instance.uE, np.zeros(7))\n",
    "#print(eq_pos_3D)\n",
    "ma_instance_fmm.run3D(pos_3D)"
   ]
  },
  {
   "cell_type": "code",
   "execution_count": 5,
   "id": "759aad60",
   "metadata": {},
   "outputs": [
    {
     "name": "stdout",
     "output_type": "stream",
     "text": [
      "(15000,)\n",
      "False\n",
      "Desired error not necessarily achieved due to precision loss.\n",
      "first minimization: 1652158.441687792\n"
     ]
    }
   ],
   "source": [
    "num_ions=5000\n",
    "mass_amu=9.012182\n",
    "omega_z = 2*np.pi*1.58e6\n",
    "q = 1.602176597458587e-19\n",
    "Bz =4.4588\n",
    "m = mass_amu*1.66057e-27\n",
    "wc = q*Bz/m\n",
    "omega_R = (wc-np.sqrt(wc**2-6*omega_z**2))/2\n",
    "mass_amu=9.012182\n",
    "vtrap=(0.0, -1750.0, -1970.0)\n",
    "v_wall=30.\n",
    "frot=omega_R/(2*np.pi)\n",
    "method='bfgs'\n",
    "frot_kHz = 1e-3*frot \n",
    "\n",
    "ma_instance_fmm=ma_fmm.ModeAnalysis(\n",
    "            N      = num_ions,\n",
    "            ionmass= mass_amu,\n",
    "            Vtrap  = vtrap,\n",
    "            omega_z = 2*np.pi*1.58e6,\n",
    "            Vwall  = v_wall,\n",
    "            frot   = frot_kHz,\n",
    "            method = method)\n",
    "\n",
    "#pos_3D = np.concatenate([start_pos_x,start_pos_y,start_pos_z])\n",
    "pos_3D = (np.random.rand(num_ions*3)-0.5)*10**-5\n",
    "print(pos_3D.shape)\n",
    "#eq_pos_3D = np.append(ma_instance.uE, np.zeros(7))\n",
    "#print(eq_pos_3D)\n",
    "ma_instance_fmm.run3D(pos_3D)"
   ]
  },
  {
   "cell_type": "code",
   "execution_count": 89,
   "id": "e46d3a08",
   "metadata": {},
   "outputs": [
    {
     "name": "stdout",
     "output_type": "stream",
     "text": [
      "(20,)\n",
      "0.010506682557180371\n",
      "[ 2.03301781e-05  2.26541828e-13  1.68203146e-05  1.68203142e-05\n",
      " -6.42031088e-14 -2.03301780e-05 -1.68203144e-05 -1.80738511e-13\n",
      " -4.04206073e-13 -1.68203147e-05 -1.73657370e-13  1.05725861e-05\n",
      "  2.34168105e-05 -2.34168106e-05 -1.05725863e-05  1.17036758e-13\n",
      "  2.34168107e-05  3.82354994e-05 -3.82354993e-05 -2.34168102e-05]\n",
      "(30,)\n"
     ]
    }
   ],
   "source": [
    "num_ions=10\n",
    "mass_amu=9.012182\n",
    "omega_z = 2*np.pi*1.58e6\n",
    "q = 1.602176597458587e-19\n",
    "Bz =4.4588\n",
    "m = mass_amu*1.66057e-27\n",
    "wc = q*Bz/m\n",
    "#omega_R = (wc-np.sqrt(wc**2-6*omega_z**2))/2\n",
    "mass_amu=9.012182\n",
    "vtrap=(0.0, -1750.0, -1970.0)\n",
    "v_wall=30.\n",
    "frot=180000.\n",
    "method='bfgs'\n",
    "frot_kHz = 1e-3*frot \n",
    "\n",
    "ma_instance=ma.ModeAnalysis(\n",
    "            N      = num_ions,\n",
    "            ionmass= mass_amu,\n",
    "            Vtrap  = vtrap,\n",
    "            omega_z = 2*np.pi*1.58e6,\n",
    "            Vwall  = v_wall,\n",
    "            frot   = frot_kHz,\n",
    "            method = method)\n",
    "\n",
    "ma_instance.run()\n",
    "print(ma_instance.Cw)\n",
    "pos = ma_instance.uE\n",
    "print(pos)\n",
    "pert = np.empty(len(pos))\n",
    "for i in range(len(pos)):\n",
    "    pert[i] = np.random.normal(0, 10**2)\n",
    "pos_3D = np.concatenate([pos[:num_ions],pos[num_ions:2*num_ions],np.zeros(num_ions)])\n",
    "print(pos_3D.shape)\n",
    "#eq_pos_3D = np.append(ma_instance.uE, np.zeros(7))\n",
    "#print(eq_pos_3D)\n",
    "ma_instance_fmm.run3D(pos_3D)"
   ]
  },
  {
   "cell_type": "code",
   "execution_count": 8,
   "id": "8c9c7cb5",
   "metadata": {},
   "outputs": [],
   "source": [
    "sfx = \"_10i_eq_scipy\"\n",
    "load_xrot = np.loadtxt(\"x\" + sfx + \".csv\")\n",
    "load_yrot = np.loadtxt(\"y\" + sfx + \".csv\")\n",
    "load_zrot = np.loadtxt(\"z\" + sfx + \".csv\")\n",
    "#load_xrot = np.zeros(10)\n",
    "#load_yrot = np.zeros(10)\n",
    "#for j in range(10):\n",
    "#    load_xrot[j] = np.cos(334.47501329-np.pi/2)*load_xrot_raw[j]+np.sin(334.47501329-np.pi/2)*load_yrot_raw[j] #rotation\n",
    "#    load_yrot[j] = -np.sin(334.47501329-np.pi/2)*load_xrot_raw[j]+np.cos(334.47501329-np.pi/2)*load_yrot_raw[j] #rotation\n",
    "#load_xrot = np.loadtxt(\"x\" + sfx + \".csv\")\n",
    "#load_yrot = np.loadtxt(\"y\" + sfx + \".csv\")"
   ]
  },
  {
   "cell_type": "code",
   "execution_count": 64,
   "id": "8f40c24f",
   "metadata": {},
   "outputs": [],
   "source": [
    "sfx = \"_236i_eq_scipy\"\n",
    "load_xrot = np.loadtxt(\"x\" + sfx + \".csv\")\n",
    "load_yrot = np.loadtxt(\"y\" + sfx + \".csv\")\n",
    "load_zrot = np.loadtxt(\"z\" + sfx + \".csv\")"
   ]
  },
  {
   "cell_type": "code",
   "execution_count": 8,
   "id": "7cc9631f",
   "metadata": {},
   "outputs": [],
   "source": [
    "load_xrot = np.loadtxt(\"236i_ma_min_x.csv\")\n",
    "load_yrot = np.loadtxt(\"236i_ma_min_y.csv\")\n",
    "load_zrot = np.loadtxt(\"236i_ma_min_z.csv\")"
   ]
  },
  {
   "cell_type": "code",
   "execution_count": 9,
   "id": "e99692df",
   "metadata": {},
   "outputs": [
    {
     "name": "stdout",
     "output_type": "stream",
     "text": [
      "(708,)\n"
     ]
    }
   ],
   "source": [
    "num_ions=236\n",
    "mass_amu=9.012182\n",
    "omega_z = 2*np.pi*1.58e6\n",
    "q = 1.602176597458587e-19\n",
    "Bz =4.4588\n",
    "m = mass_amu*1.66057e-27\n",
    "wc = q*Bz/m\n",
    "omega_R = (wc-np.sqrt(wc**2-6*omega_z**2))/2\n",
    "mass_amu=9.012182\n",
    "vtrap=(0.0, -1750.0, -1970.0)\n",
    "v_wall=30.\n",
    "frot=omega_R/(2*np.pi)\n",
    "method='cg'\n",
    "frot_kHz = 1e-3*frot \n",
    "\n",
    "ma_instance_fmm=ma_fmm.ModeAnalysis(\n",
    "            N      = num_ions,\n",
    "            ionmass= mass_amu,\n",
    "            Vtrap  = vtrap,\n",
    "            omega_z = 2*np.pi*1.58e6,\n",
    "            Vwall  = v_wall,\n",
    "            frot   = frot_kHz,\n",
    "            method = method)\n",
    "\n",
    "#pos_3D = np.concatenate([load_pos_rot3D[-1,0,:],load_pos_rot3D[-1,1,:],load_pos_rot3D[-1,2,:]])\n",
    "pos_3D = np.concatenate([load_xrot,load_yrot,load_zrot])\n",
    "print(pos_3D.shape)\n",
    "#eq_pos_3D = np.append(ma_instance.uE, np.zeros(7))\n",
    "#print(eq_pos_3D)\n",
    "ma_instance_fmm.run3D_eigen(pos_3D)"
   ]
  },
  {
   "cell_type": "code",
   "execution_count": 10,
   "id": "7d7dc717",
   "metadata": {},
   "outputs": [
    {
     "name": "stdout",
     "output_type": "stream",
     "text": [
      "(30,)\n"
     ]
    }
   ],
   "source": [
    "num_ions=10\n",
    "mass_amu=9.012182\n",
    "omega_z = 2*np.pi*1.58e6\n",
    "q = 1.602176597458587e-19\n",
    "Bz =4.4588\n",
    "m = mass_amu*1.66057e-27\n",
    "wc = q*Bz/m\n",
    "omega_R = (wc-np.sqrt(wc**2-6*omega_z**2))/2\n",
    "mass_amu=9.012182\n",
    "vtrap=(0.0, -1750.0, -1970.0)\n",
    "v_wall=30.\n",
    "frot=omega_R/(2*np.pi)\n",
    "method='bfgs'\n",
    "frot_kHz = 1e-3*frot \n",
    "\n",
    "ma_instance_fmm=ma_fmm.ModeAnalysis(\n",
    "            N      = num_ions,\n",
    "            ionmass= mass_amu,\n",
    "            Vtrap  = vtrap,\n",
    "            omega_z = 2*np.pi*1.58e6,\n",
    "            Vwall  = v_wall,\n",
    "            frot   = frot_kHz,\n",
    "            method = method)\n",
    "\n",
    "#pos_3D = np.concatenate([load_pos_rot3D[-1,0,:],load_pos_rot3D[-1,1,:],load_pos_rot3D[-1,2,:]])\n",
    "pos_3D = np.concatenate([load_xrot,load_yrot,load_zrot])\n",
    "print(pos_3D.shape)\n",
    "#eq_pos_3D = np.append(ma_instance.uE, np.zeros(7))\n",
    "#print(eq_pos_3D)\n",
    "ma_instance_fmm.run3D(pos_3D)"
   ]
  },
  {
   "cell_type": "code",
   "execution_count": 11,
   "id": "b7245c15",
   "metadata": {},
   "outputs": [
    {
     "name": "stdout",
     "output_type": "stream",
     "text": [
      "[1.07929279e+01 9.95181507e+03 4.32759200e+04 7.65301057e+04\n",
      " 9.47826504e+04 1.11315640e+05 1.26024668e+05 1.60837880e+05\n",
      " 1.86729126e+05 2.02220279e+05 2.14352775e+05 2.27654757e+05\n",
      " 2.45539089e+05 2.65098394e+05 2.87063253e+05 2.96478514e+05\n",
      " 3.10666180e+05 3.24599207e+05 3.39371824e+05 3.54128798e+05\n",
      " 3.65266380e+05 3.70877189e+05 3.91233795e+05 3.97518135e+05\n",
      " 4.15800519e+05 4.19772574e+05 4.39555905e+05 4.56235543e+05\n",
      " 4.62558617e+05 4.78976331e+05 4.93067668e+05 4.98355350e+05\n",
      " 5.20014558e+05 5.26206916e+05 5.34552012e+05 5.45827127e+05\n",
      " 5.56245237e+05 5.68717468e+05 5.84331757e+05 5.93752777e+05\n",
      " 6.00864155e+05 6.16730989e+05 6.25279685e+05 6.34569774e+05\n",
      " 6.47424458e+05 6.52483558e+05 6.61418997e+05 6.72409940e+05\n",
      " 6.79228815e+05 6.93814369e+05 6.94585399e+05 7.05268835e+05\n",
      " 7.14687059e+05 7.18757486e+05 7.28718219e+05 7.40609992e+05\n",
      " 7.49530916e+05 7.64111966e+05 7.68560875e+05 7.78477596e+05\n",
      " 7.85925833e+05 7.93269670e+05 8.07012824e+05 8.15616077e+05\n",
      " 8.23001052e+05 8.29151446e+05 8.37929803e+05 8.48807754e+05\n",
      " 8.54433403e+05 8.70998790e+05 8.79739163e+05 8.83747105e+05\n",
      " 8.89772444e+05 9.03678382e+05 9.14183768e+05 9.22385156e+05\n",
      " 9.31934046e+05 9.37276746e+05 9.46037679e+05 9.55335651e+05\n",
      " 9.61029635e+05 9.73186846e+05 9.83230446e+05 9.94408148e+05\n",
      " 9.99595254e+05 1.01560004e+06 1.02140985e+06 1.03527941e+06\n",
      " 1.04201280e+06 1.05470891e+06 1.06478456e+06 1.07658037e+06\n",
      " 1.08145665e+06 1.08990739e+06 1.09200031e+06 1.10113671e+06\n",
      " 1.11377366e+06 1.12203370e+06 1.13627308e+06 1.14343614e+06\n",
      " 1.15387789e+06 1.16740190e+06 1.17656572e+06 1.18375446e+06\n",
      " 1.19355010e+06 1.20979874e+06 1.21807382e+06 1.22500906e+06\n",
      " 1.23607454e+06 1.24580500e+06 1.25352198e+06 1.25808569e+06\n",
      " 1.26444231e+06 1.27340088e+06 1.27962141e+06 1.28986087e+06\n",
      " 1.30377852e+06 1.31360558e+06 1.31772042e+06 1.32437629e+06\n",
      " 1.34320039e+06 1.35135321e+06 1.35659181e+06 1.36320180e+06\n",
      " 1.37802055e+06 1.38545113e+06 1.39199235e+06 1.39964135e+06\n",
      " 1.41554702e+06 1.41805888e+06 1.43052344e+06 1.43534487e+06\n",
      " 1.44148270e+06 1.45315079e+06 1.46481346e+06 1.47119190e+06\n",
      " 1.48078659e+06 1.49614494e+06 1.50275177e+06 1.51108300e+06\n",
      " 1.51659367e+06 1.52983755e+06 1.54643996e+06 1.54957666e+06\n",
      " 1.56173007e+06 1.56610351e+06 1.57379053e+06 1.58580474e+06\n",
      " 1.58892167e+06 1.60341255e+06 1.61066683e+06 1.62094837e+06\n",
      " 1.62932736e+06 1.63587919e+06 1.64819281e+06 1.66110492e+06\n",
      " 1.66490459e+06 1.67163998e+06 1.68374447e+06 1.69344135e+06\n",
      " 1.70411426e+06 1.71174753e+06 1.71915509e+06 1.72380339e+06\n",
      " 1.73746876e+06 1.74576749e+06 1.75165769e+06 1.75738306e+06\n",
      " 1.76406917e+06 1.77312423e+06 1.77994662e+06 1.80320464e+06\n",
      " 1.81176136e+06 1.82112298e+06 1.83106821e+06 1.83421110e+06\n",
      " 1.84686658e+06 1.85314090e+06 1.86845345e+06 1.87630340e+06\n",
      " 1.88440520e+06 1.88935226e+06 1.89464739e+06 1.90960090e+06\n",
      " 1.92161157e+06 1.93283535e+06 1.94521918e+06 1.95590079e+06\n",
      " 1.96645801e+06 1.97578815e+06 1.98811409e+06 1.99671419e+06\n",
      " 2.00691300e+06 2.01235663e+06 2.02321378e+06 2.03898436e+06\n",
      " 2.05424682e+06 2.06178125e+06 2.07374283e+06 2.08760730e+06\n",
      " 2.09547813e+06 2.10736146e+06 2.11959594e+06 2.13343468e+06\n",
      " 2.14172712e+06 2.15817535e+06 2.16989527e+06 2.18239948e+06\n",
      " 2.19533739e+06 2.20203802e+06 2.22448911e+06 2.23411952e+06\n",
      " 2.25161934e+06 2.27327935e+06 2.27694232e+06 2.28756674e+06\n",
      " 2.29741527e+06 2.31314330e+06 2.33486528e+06 2.34217745e+06\n",
      " 2.36750127e+06 2.37875098e+06 2.40337024e+06 2.42284825e+06\n",
      " 2.43547231e+06 2.45907534e+06 2.51486970e+06 2.53720253e+06\n",
      " 2.61007713e+06 2.69627087e+06 2.70962668e+06 2.80545278e+06\n",
      " 2.85611126e+06 2.88539650e+06 2.92002270e+06 2.92740004e+06\n",
      " 4.76228765e+06 4.80887808e+06 4.84095767e+06 4.88082552e+06\n",
      " 4.96011535e+06 5.02287584e+06 5.07776815e+06 5.11606048e+06\n",
      " 5.15375587e+06 5.21795661e+06 5.27096998e+06 5.30254397e+06\n",
      " 5.36727772e+06 5.39447799e+06 5.48635072e+06 5.53504734e+06\n",
      " 5.56551873e+06 5.61792628e+06 5.65399326e+06 5.68830418e+06\n",
      " 5.76345153e+06 5.78541549e+06 5.82398063e+06 5.88916296e+06\n",
      " 5.92171773e+06 5.98191570e+06 6.01989293e+06 6.08899716e+06\n",
      " 6.11180806e+06 6.17786531e+06 6.25002339e+06 6.31029808e+06\n",
      " 6.35722183e+06 6.36457696e+06 6.42595948e+06 6.47971825e+06\n",
      " 6.51143500e+06 6.54121571e+06 6.59817836e+06 6.62664473e+06\n",
      " 6.68678845e+06 6.72151315e+06 6.75663864e+06 6.83052985e+06\n",
      " 6.87532835e+06 6.91728294e+06 6.93652763e+06 7.04271617e+06\n",
      " 7.05620232e+06 7.07924049e+06 7.10079754e+06 7.14049611e+06\n",
      " 7.22189131e+06 7.28926145e+06 7.31053883e+06 7.39154043e+06\n",
      " 7.44052747e+06 7.47791876e+06 7.48429330e+06 7.50515593e+06\n",
      " 7.54679152e+06 7.60998211e+06 7.62756117e+06 7.68402528e+06\n",
      " 7.73834537e+06 7.77068137e+06 7.79613133e+06 7.84205791e+06\n",
      " 7.85167949e+06 7.91011240e+06 7.95914269e+06 8.01040363e+06\n",
      " 8.05426178e+06 8.09200718e+06 8.14815725e+06 8.16515391e+06\n",
      " 8.20770457e+06 8.22879919e+06 8.26958758e+06 8.29403622e+06\n",
      " 8.32382971e+06 8.35318247e+06 8.37923935e+06 8.41198509e+06\n",
      " 8.42887963e+06 8.45899818e+06 8.49960339e+06 8.52556481e+06\n",
      " 8.55804011e+06 8.57017596e+06 8.59625755e+06 8.66023441e+06\n",
      " 8.69148163e+06 8.73070947e+06 8.77190627e+06 8.79004158e+06\n",
      " 8.79633578e+06 8.85513004e+06 8.89614388e+06 8.91044932e+06\n",
      " 8.96972652e+06 8.99013733e+06 9.03631686e+06 9.07841314e+06\n",
      " 9.10775603e+06 9.15307537e+06 9.18198894e+06 9.19992690e+06\n",
      " 9.24193315e+06 9.27226783e+06 9.29064452e+06 9.31338906e+06\n",
      " 9.35610494e+06 9.36854177e+06 9.39175961e+06 9.41799829e+06\n",
      " 9.45757363e+06 9.50026296e+06 9.52979880e+06 9.55006514e+06\n",
      " 9.58932278e+06 9.61118889e+06 9.69728170e+06 9.72495597e+06\n",
      " 9.75567025e+06 9.80144310e+06 9.82224437e+06 9.85545951e+06\n",
      " 9.88353620e+06 9.90697170e+06 9.92743279e+06 9.94847302e+06\n",
      " 9.96306495e+06 1.00235807e+07 1.00432755e+07 1.00769563e+07\n",
      " 1.01277979e+07 1.01401648e+07 1.01738373e+07 1.01791736e+07\n",
      " 1.02090627e+07 1.02241130e+07 1.02889440e+07 1.03159195e+07\n",
      " 1.03461065e+07 1.03770789e+07 1.03980361e+07 1.04431534e+07\n",
      " 1.04832305e+07 1.05384872e+07 1.05539760e+07 1.05691577e+07\n",
      " 1.06034459e+07 1.06188601e+07 1.06601493e+07 1.07027185e+07\n",
      " 1.07239836e+07 1.07392687e+07 1.07669101e+07 1.08002273e+07\n",
      " 1.08232604e+07 1.08626809e+07 1.09110466e+07 1.09663233e+07\n",
      " 1.09897348e+07 1.10459325e+07 1.10621710e+07 1.10898074e+07\n",
      " 1.11137265e+07 1.11406951e+07 1.11763211e+07 1.12232774e+07\n",
      " 1.12486662e+07 1.12828026e+07 1.12914353e+07 1.13122332e+07\n",
      " 1.13881931e+07 1.14496004e+07 1.14675319e+07 1.15178422e+07\n",
      " 1.15437329e+07 1.15691960e+07 1.16055790e+07 1.16288736e+07\n",
      " 1.17042169e+07 1.17454442e+07 1.17648612e+07 1.18532740e+07\n",
      " 1.18998282e+07 1.19689327e+07 1.20226198e+07 1.20540354e+07\n",
      " 1.20743309e+07 1.21240379e+07 1.21723977e+07 1.22050867e+07\n",
      " 1.22455219e+07 1.22881736e+07 1.23757971e+07 1.24296206e+07\n",
      " 1.24736892e+07 1.24976825e+07 1.25398290e+07 1.25807811e+07\n",
      " 1.26677951e+07 1.26861280e+07 1.27390798e+07 1.27724878e+07\n",
      " 1.28600748e+07 1.28913797e+07 1.29815079e+07 1.30119748e+07\n",
      " 1.30666938e+07 1.31683136e+07 1.31863421e+07 1.32284809e+07\n",
      " 1.33745212e+07 1.34515180e+07 1.34903560e+07 1.35207179e+07\n",
      " 1.35888091e+07 1.36503088e+07 1.37362789e+07 1.37947061e+07\n",
      " 1.38513365e+07 1.40229398e+07 1.41533457e+07 1.42828127e+07\n",
      " 1.43379222e+07 1.44571627e+07 1.44809852e+07 1.45629360e+07\n",
      " 1.48636662e+07 1.50988170e+07 1.53255926e+07 1.53919674e+07\n",
      " 4.17836903e+07 4.18074778e+07 4.18889331e+07 4.19721856e+07\n",
      " 4.20804457e+07 4.21011384e+07 4.21143513e+07 4.21553220e+07\n",
      " 4.21741128e+07 4.22156283e+07 4.22622780e+07 4.23203152e+07\n",
      " 4.23342015e+07 4.23544364e+07 4.23821070e+07 4.24018921e+07\n",
      " 4.24246445e+07 4.24302473e+07 4.24441562e+07 4.24674777e+07\n",
      " 4.25146491e+07 4.25160361e+07 4.25292556e+07 4.25651059e+07\n",
      " 4.25762968e+07 4.25881149e+07 4.26150040e+07 4.26256862e+07\n",
      " 4.26553381e+07 4.26638919e+07 4.26759941e+07 4.26820825e+07\n",
      " 4.27043568e+07 4.27135264e+07 4.27288340e+07 4.27369432e+07\n",
      " 4.27529553e+07 4.27631706e+07 4.27873442e+07 4.27981018e+07\n",
      " 4.28162141e+07 4.28203761e+07 4.28354298e+07 4.28479519e+07\n",
      " 4.28541467e+07 4.28668723e+07 4.28770097e+07 4.28955955e+07\n",
      " 4.29094169e+07 4.29322324e+07 4.29391536e+07 4.29498637e+07\n",
      " 4.29718009e+07 4.29754249e+07 4.29876844e+07 4.29933253e+07\n",
      " 4.29974711e+07 4.30137516e+07 4.30232996e+07 4.30340829e+07\n",
      " 4.30561371e+07 4.30580367e+07 4.30615411e+07 4.30727634e+07\n",
      " 4.30830728e+07 4.30878557e+07 4.30956480e+07 4.31046248e+07\n",
      " 4.31080963e+07 4.31151338e+07 4.31197514e+07 4.31357502e+07\n",
      " 4.31399983e+07 4.31545345e+07 4.31644153e+07 4.31691654e+07\n",
      " 4.31721787e+07 4.31828619e+07 4.31922963e+07 4.31963098e+07\n",
      " 4.32031247e+07 4.32159910e+07 4.32222868e+07 4.32231103e+07\n",
      " 4.32342172e+07 4.32374560e+07 4.32401377e+07 4.32529730e+07\n",
      " 4.32611305e+07 4.32760677e+07 4.32823718e+07 4.32860093e+07\n",
      " 4.32912419e+07 4.33040862e+07 4.33160569e+07 4.33209353e+07\n",
      " 4.33262564e+07 4.33289382e+07 4.33313830e+07 4.33361467e+07\n",
      " 4.33508000e+07 4.33515542e+07 4.33561054e+07 4.33758878e+07\n",
      " 4.33773226e+07 4.33820959e+07 4.33882642e+07 4.33946171e+07\n",
      " 4.33995138e+07 4.34072391e+07 4.34126328e+07 4.34203632e+07\n",
      " 4.34285746e+07 4.34326770e+07 4.34502192e+07 4.34549333e+07\n",
      " 4.34661228e+07 4.34693621e+07 4.34749534e+07 4.34785160e+07\n",
      " 4.34862456e+07 4.34971170e+07 4.35079055e+07 4.35102847e+07\n",
      " 4.35201290e+07 4.35241623e+07 4.35286495e+07 4.35383421e+07\n",
      " 4.35421572e+07 4.35454342e+07 4.35571182e+07 4.35590094e+07\n",
      " 4.35694460e+07 4.35769778e+07 4.35839745e+07 4.35888575e+07\n",
      " 4.35948219e+07 4.35966323e+07 4.36088805e+07 4.36167206e+07\n",
      " 4.36221361e+07 4.36287568e+07 4.36359372e+07 4.36404480e+07\n",
      " 4.36473457e+07 4.36580952e+07 4.36642529e+07 4.36688027e+07\n",
      " 4.36755221e+07 4.36777220e+07 4.36867830e+07 4.36915915e+07\n",
      " 4.36961054e+07 4.36989734e+07 4.37044165e+07 4.37135317e+07\n",
      " 4.37216092e+07 4.37245654e+07 4.37325482e+07 4.37396595e+07\n",
      " 4.37456669e+07 4.37551450e+07 4.37613616e+07 4.37658070e+07\n",
      " 4.37777605e+07 4.37797318e+07 4.37838834e+07 4.37908610e+07\n",
      " 4.37979186e+07 4.38073851e+07 4.38161471e+07 4.38193394e+07\n",
      " 4.38214759e+07 4.38312829e+07 4.38395444e+07 4.38458023e+07\n",
      " 4.38545182e+07 4.38626584e+07 4.38652417e+07 4.38833378e+07\n",
      " 4.38874349e+07 4.38949494e+07 4.39064050e+07 4.39095206e+07\n",
      " 4.39171920e+07 4.39300943e+07 4.39323137e+07 4.39373809e+07\n",
      " 4.39417098e+07 4.39463748e+07 4.39561862e+07 4.39610234e+07\n",
      " 4.39706073e+07 4.39749185e+07 4.39933469e+07 4.39955433e+07\n",
      " 4.40017185e+07 4.40034007e+07 4.40123642e+07 4.40160654e+07\n",
      " 4.40241813e+07 4.40303608e+07 4.40386757e+07 4.40427083e+07\n",
      " 4.40492549e+07 4.40570992e+07 4.40652453e+07 4.40714778e+07\n",
      " 4.40752029e+07 4.40816524e+07 4.40875781e+07 4.40943582e+07\n",
      " 4.41013234e+07 4.41062830e+07 4.41119378e+07 4.41167526e+07\n",
      " 4.41225710e+07 4.41300181e+07 4.41364352e+07 4.41441061e+07\n",
      " 4.41470506e+07 4.41490696e+07 4.41564420e+07 4.41642651e+07\n",
      " 4.41665205e+07 4.41802097e+07 4.41898218e+07 4.41933850e+07\n",
      " 4.42014307e+07 4.42057545e+07 4.42123188e+07 4.42193107e+07\n",
      " 4.42225108e+07 4.42290665e+07 4.42368835e+07 4.42465161e+07]\n"
     ]
    }
   ],
   "source": [
    "print(ma_instance_fmm.EvalsE3D)"
   ]
  },
  {
   "cell_type": "code",
   "execution_count": 14,
   "id": "8e8dbb4e",
   "metadata": {},
   "outputs": [
    {
     "data": {
      "image/png": "[encoded data removed]",
      "text/plain": [
       "<Figure size 1440x720 with 1 Axes>"
      ]
     },
     "metadata": {
      "needs_background": "light"
     },
     "output_type": "display_data"
    }
   ],
   "source": [
    "fig = plt.figure(figsize=(20,10))\n",
    "ax = fig.add_subplot()\n",
    "ax.set_xscale('log')\n",
    "plt.xticks(fontsize=25)\n",
    "plt.yticks(fontsize=25)\n",
    "plt.xlabel(r'$t\\;(step\\;number)$',fontsize = 30)\n",
    "plt.ylabel(r'$KE\\;(J)$',fontsize = 30)\n",
    "#for eig3D in ma_instance_fmm.EvalsE3D:\n",
    "#    ax.axvline(x = eig3D)\n",
    "per=1\n",
    "c=0\n",
    "i=0\n",
    "while i < ma_instance_fmm.EvalsE3D.size:\n",
    "    if c% per ==0:\n",
    "        ax.axvline(x = ma_instance_fmm.EvalsE3D[i])\n",
    "    c+=1\n",
    "    i+=1"
   ]
  },
  {
   "cell_type": "code",
   "execution_count": 15,
   "id": "d3380f06",
   "metadata": {},
   "outputs": [
    {
     "data": {
      "text/plain": [
       "Text(0, 0.5, '$Frequency\\\\; (MHz)$')"
      ]
     },
     "execution_count": 15,
     "metadata": {},
     "output_type": "execute_result"
    },
    {
     "data": {
      "image/png": "[encoded data removed]",
      "text/plain": [
       "<Figure size 720x720 with 1 Axes>"
      ]
     },
     "metadata": {
      "needs_background": "light"
     },
     "output_type": "display_data"
    }
   ],
   "source": [
    "fig = plt.figure(figsize=(10,10))\n",
    "ax = fig.add_subplot()\n",
    "plt.xticks(fontsize=25)\n",
    "plt.yticks(fontsize=25)\n",
    "ax.plot(np.arange(236*3), ma_instance_fmm.EvalsE3D/(2*np.pi*10**6), linestyle = \" \", marker = \".\")\n",
    "plt.xlabel(r'$mode\\;number$',fontsize = 30)\n",
    "plt.ylabel(r'$Frequency\\; (MHz)$',fontsize = 30)"
   ]
  },
  {
   "cell_type": "code",
   "execution_count": 17,
   "id": "cbaa79cf",
   "metadata": {},
   "outputs": [
    {
     "data": {
      "text/plain": [
       "[<matplotlib.lines.Line2D at 0x7fd170645070>]"
      ]
     },
     "execution_count": 17,
     "metadata": {},
     "output_type": "execute_result"
    },
    {
     "data": {
      "image/png": "[encoded data removed]",
      "text/plain": [
       "<Figure size 720x720 with 1 Axes>"
      ]
     },
     "metadata": {
      "needs_background": "light"
     },
     "output_type": "display_data"
    }
   ],
   "source": [
    "fig = plt.figure(figsize=(10,10))\n",
    "ax = fig.add_subplot()\n",
    "ax.plot(np.arange(256*3), ma_instance_fmm.EvalsE3D, linestyle = \" \", marker = \".\")"
   ]
  },
  {
   "cell_type": "code",
   "execution_count": null,
   "id": "27c0e45b",
   "metadata": {},
   "outputs": [],
   "source": []
  },
  {
   "cell_type": "code",
   "execution_count": 84,
   "id": "c75eb914",
   "metadata": {},
   "outputs": [
    {
     "name": "stdout",
     "output_type": "stream",
     "text": [
      "[0.00000000e+00 3.25939086e+03 8.13473150e+03 2.27909014e+04\n",
      " 2.84315728e+04 3.19418723e+04 3.38539973e+04 3.46113846e+04\n",
      " 3.93981637e+04 4.60477925e+04 5.69143658e+04 6.22088993e+04\n",
      " 6.58852143e+04 6.86167186e+04 7.83574228e+04 8.27216662e+04\n",
      " 8.66445796e+04 9.01354960e+04 9.71269539e+04 9.86402076e+04\n",
      " 1.03081106e+05 1.06711748e+05 1.10641161e+05 1.15426511e+05\n",
      " 1.17623647e+05 1.21308347e+05 1.25128469e+05 1.31223704e+05\n",
      " 1.35695068e+05 1.39555674e+05 1.40557533e+05 1.43542078e+05\n",
      " 1.45522147e+05 1.53411248e+05 1.57356484e+05 1.59459710e+05\n",
      " 1.61583104e+05 1.66999723e+05 1.68228625e+05 1.72125987e+05\n",
      " 1.76818478e+05 1.83645166e+05 1.86776040e+05 1.89690037e+05\n",
      " 1.91767190e+05 1.94941986e+05 1.99173931e+05 2.08658953e+05\n",
      " 2.10558251e+05 2.13081227e+05 2.16405662e+05 2.19993599e+05\n",
      " 2.23982773e+05 2.26999445e+05 2.29401221e+05 2.35708308e+05\n",
      " 2.39567036e+05 2.42273141e+05 2.44027597e+05 2.47320151e+05\n",
      " 2.54764801e+05 2.57402776e+05 2.59303212e+05 2.63414582e+05\n",
      " 2.67394760e+05 2.71043696e+05 2.72730657e+05 2.77291132e+05\n",
      " 2.79105357e+05 2.84413934e+05 2.88109818e+05 2.91597634e+05\n",
      " 2.94369373e+05 3.00334609e+05 3.04801609e+05 3.06710276e+05\n",
      " 3.10739556e+05 3.12974135e+05 3.15542250e+05 3.18470444e+05\n",
      " 3.23503740e+05 3.25488066e+05 3.29780572e+05 3.33491917e+05\n",
      " 3.35291439e+05 3.39841125e+05 3.42019119e+05 3.47300229e+05\n",
      " 3.53938582e+05 3.60418149e+05 3.61803646e+05 3.63632544e+05\n",
      " 3.66917295e+05 3.76293563e+05 3.91717702e+05 4.15126809e+05\n",
      " 4.28122880e+05 4.37713082e+05 4.49700046e+05 4.52703959e+05\n",
      " 8.38306884e+05 8.60189924e+05 8.71186285e+05 8.96453883e+05\n",
      " 9.10261865e+05 9.17629889e+05 9.47368271e+05 9.57038784e+05\n",
      " 9.77179388e+05 9.87604827e+05 1.00772879e+06 1.02144672e+06\n",
      " 1.04046158e+06 1.05099414e+06 1.06679686e+06 1.07556711e+06\n",
      " 1.09809263e+06 1.10019310e+06 1.12203647e+06 1.13331519e+06\n",
      " 1.14960041e+06 1.15219809e+06 1.17237472e+06 1.17865625e+06\n",
      " 1.20577559e+06 1.22608139e+06 1.24054277e+06 1.25242291e+06\n",
      " 1.26924639e+06 1.27451361e+06 1.29356571e+06 1.30303404e+06\n",
      " 1.32117400e+06 1.32759993e+06 1.33854702e+06 1.34305762e+06\n",
      " 1.35613883e+06 1.36734222e+06 1.37555991e+06 1.38513483e+06\n",
      " 1.39846255e+06 1.41310140e+06 1.43182624e+06 1.45226422e+06\n",
      " 1.45931859e+06 1.47358108e+06 1.48212885e+06 1.49051259e+06\n",
      " 1.49624767e+06 1.50747075e+06 1.51532903e+06 1.53175520e+06\n",
      " 1.53691287e+06 1.54927910e+06 1.55196655e+06 1.57442740e+06\n",
      " 1.58000000e+06 1.58271404e+06 1.60159842e+06 1.60403880e+06\n",
      " 1.62126313e+06 1.63408842e+06 1.65792556e+06 1.66414536e+06\n",
      " 1.67291503e+06 1.69490390e+06 1.70303622e+06 1.71093908e+06\n",
      " 1.71654759e+06 1.72746538e+06 1.73470049e+06 1.75804179e+06\n",
      " 1.77282190e+06 1.78218779e+06 1.79538192e+06 1.80033235e+06\n",
      " 1.81104648e+06 1.82034434e+06 1.83804387e+06 1.87134516e+06\n",
      " 1.88317251e+06 1.89444132e+06 1.90978105e+06 1.91293586e+06\n",
      " 1.93593382e+06 1.96653101e+06 1.99638723e+06 2.03054806e+06\n",
      " 2.04378081e+06 2.05024878e+06 2.08284981e+06 2.09183503e+06\n",
      " 2.14013324e+06 2.15967808e+06 2.17653345e+06 2.20039834e+06\n",
      " 2.24966982e+06 2.27699928e+06 2.35175105e+06 2.36343860e+06\n",
      " 6.68077497e+06 6.68498397e+06 6.70990019e+06 6.71971680e+06\n",
      " 6.73603872e+06 6.74478254e+06 6.74876743e+06 6.75527674e+06\n",
      " 6.76782110e+06 6.77314403e+06 6.78254164e+06 6.78594152e+06\n",
      " 6.78815735e+06 6.79881874e+06 6.80692961e+06 6.81650925e+06\n",
      " 6.82179258e+06 6.82290824e+06 6.82786981e+06 6.82993381e+06\n",
      " 6.83280560e+06 6.84319233e+06 6.84693489e+06 6.84859990e+06\n",
      " 6.85296867e+06 6.85458371e+06 6.85698358e+06 6.85990160e+06\n",
      " 6.86271057e+06 6.86789526e+06 6.86997966e+06 6.87282004e+06\n",
      " 6.87372160e+06 6.87623958e+06 6.87807323e+06 6.88316576e+06\n",
      " 6.88564002e+06 6.88680196e+06 6.89170747e+06 6.89619281e+06\n",
      " 6.89949411e+06 6.89996918e+06 6.90109685e+06 6.90304001e+06\n",
      " 6.90708526e+06 6.91101272e+06 6.91226987e+06 6.91447797e+06\n",
      " 6.91460599e+06 6.91878423e+06 6.92043947e+06 6.92238829e+06\n",
      " 6.92379799e+06 6.92580803e+06 6.92723424e+06 6.93038161e+06\n",
      " 6.93165920e+06 6.93624449e+06 6.93921666e+06 6.94367253e+06\n",
      " 6.94611588e+06 6.94724819e+06 6.94857131e+06 6.95178773e+06\n",
      " 6.95281899e+06 6.95419650e+06 6.95662536e+06 6.96069731e+06\n",
      " 6.96173038e+06 6.96450646e+06 6.96619366e+06 6.96766407e+06\n",
      " 6.97087256e+06 6.97296161e+06 6.97449403e+06 6.97933837e+06\n",
      " 6.98231894e+06 6.98594445e+06 6.98709005e+06 6.98854477e+06\n",
      " 6.99071758e+06 6.99272405e+06 6.99469368e+06 6.99589917e+06\n",
      " 6.99806707e+06 6.99972664e+06 7.00267473e+06 7.00591002e+06\n",
      " 7.00892848e+06 7.01059319e+06 7.01223957e+06 7.01306086e+06\n",
      " 7.01503177e+06 7.01773457e+06 7.01875123e+06 7.02115281e+06\n",
      " 7.02165047e+06 7.02610422e+06 7.02897838e+06 7.03064548e+06]\n"
     ]
    },
    {
     "data": {
      "image/png": "[encoded data removed]",
      "text/plain": [
       "<Figure size 720x720 with 1 Axes>"
      ]
     },
     "metadata": {
      "needs_background": "light"
     },
     "output_type": "display_data"
    }
   ],
   "source": [
    "fig = plt.figure(figsize=(10,10))\n",
    "ax = fig.add_subplot()\n",
    "ax.plot(np.arange(100*3), ma_instance_fmm.EvalsE3D/(2*np.pi), linestyle = \" \", marker = \".\")\n",
    "print(ma_instance_fmm.EvalsE3D/(2*np.pi))"
   ]
  },
  {
   "cell_type": "code",
   "execution_count": 85,
   "id": "dab11395",
   "metadata": {},
   "outputs": [
    {
     "data": {
      "text/plain": [
       "Text(0, 0.5, '$Frequency\\\\; (MHz)$')"
      ]
     },
     "execution_count": 85,
     "metadata": {},
     "output_type": "execute_result"
    },
    {
     "data": {
      "image/png": "[encoded data removed]",
      "text/plain": [
       "<Figure size 720x720 with 1 Axes>"
      ]
     },
     "metadata": {
      "needs_background": "light"
     },
     "output_type": "display_data"
    }
   ],
   "source": [
    "fig = plt.figure(figsize=(10,10))\n",
    "ax = fig.add_subplot()\n",
    "ax.plot(np.arange(10*3), ma_instance_fmm.EvalsE3D/(2*np.pi*10**6), linestyle = \" \", marker = \".\")\n",
    "plt.xticks(fontsize=25)\n",
    "plt.yticks(fontsize=25)\n",
    "plt.xlabel(r'$mode\\;number$',fontsize = 30)\n",
    "plt.ylabel(r'$Frequency\\; (MHz)$',fontsize = 30)"
   ]
  },
  {
   "cell_type": "code",
   "execution_count": 21,
   "id": "e8bcb768",
   "metadata": {},
   "outputs": [
    {
     "name": "stdout",
     "output_type": "stream",
     "text": [
      "[ 1.31252818e-07  2.24099495e-09  1.58615876e-09 -1.28056854e-09\n",
      " -1.17870513e-09  3.91446520e-09 -1.45519152e-10  7.45058060e-09\n",
      "  9.31322575e-09  5.58793545e-09  0.00000000e+00  1.11758709e-08\n",
      " -1.11758709e-08  2.60770321e-08  9.68575478e-08 -4.47034836e-08\n",
      " -6.70552254e-08 -3.72529030e-08  3.72529030e-08  2.98023224e-08\n",
      "  0.00000000e+00]\n"
     ]
    },
    {
     "data": {
      "image/png": "[encoded data removed]",
      "text/plain": [
       "<Figure size 2160x720 with 1 Axes>"
      ]
     },
     "metadata": {
      "needs_background": "light"
     },
     "output_type": "display_data"
    }
   ],
   "source": [
    "fig = plt.figure(figsize=(30,10))\n",
    "ax = fig.add_subplot()\n",
    "ax.set_xscale('log')\n",
    "for ax_eig in ma_instance.axialEvalsE:\n",
    "    ax.axvline(x = ax_eig, color = 'red')\n",
    "for plan_eig in ma_instance.planarEvalsE:\n",
    "    ax.axvline(x = plan_eig)\n",
    "#for eig3D in ma_instance_fmm.EvalsE3D:\n",
    "#    ax.axvline(x = eig3D)\n",
    "eig2Dsort = np.sort(np.append(ma_instance.axialEvalsE,ma_instance.planarEvalsE))\n",
    "eig3Dsort = np.sort(ma_instance_fmm.EvalsE3D)\n",
    "print(eig2Dsort-eig3Dsort)"
   ]
  },
  {
   "cell_type": "code",
   "execution_count": 1,
   "id": "5963a2e1",
   "metadata": {},
   "outputs": [
    {
     "ename": "NameError",
     "evalue": "name 'ma_instance_fmm' is not defined",
     "output_type": "error",
     "traceback": [
      "\u001b[0;31m---------------------------------------------------------------------------\u001b[0m",
      "\u001b[0;31mNameError\u001b[0m                                 Traceback (most recent call last)",
      "Input \u001b[0;32mIn [1]\u001b[0m, in \u001b[0;36m<cell line: 1>\u001b[0;34m()\u001b[0m\n\u001b[0;32m----> 1\u001b[0m pos_fmm \u001b[38;5;241m=\u001b[39m \u001b[43mma_instance_fmm\u001b[49m\u001b[38;5;241m.\u001b[39muE\n\u001b[1;32m      2\u001b[0m ax \u001b[38;5;241m=\u001b[39m plt\u001b[38;5;241m.\u001b[39msubplot()\n\u001b[1;32m      3\u001b[0m ax\u001b[38;5;241m.\u001b[39maxis(\u001b[38;5;124m'\u001b[39m\u001b[38;5;124mequal\u001b[39m\u001b[38;5;124m'\u001b[39m)\n",
      "\u001b[0;31mNameError\u001b[0m: name 'ma_instance_fmm' is not defined"
     ]
    }
   ],
   "source": [
    "pos_fmm = ma_instance_fmm.uE\n",
    "ax = plt.subplot()\n",
    "ax.axis('equal')\n",
    "ax.scatter(pos_fmm[0:ma_instance_fmm.Nion]*1e6,pos_fmm[ma_instance_fmm.Nion:]*1e6)\n",
    "plt.show()\n",
    "print(pos_fmm[:num_ions])\n",
    "print(pos_fmm[num_ions:])"
   ]
  },
  {
   "cell_type": "code",
   "execution_count": null,
   "id": "35195745",
   "metadata": {},
   "outputs": [],
   "source": [
    "ma_instance_fmm.show_axial_Evals()\n",
    "print(ma_instance_fmm.axialEvals)\n",
    "print(ma_instance_fmm.planarEvals)"
   ]
  },
  {
   "cell_type": "code",
   "execution_count": null,
   "id": "521b1404",
   "metadata": {},
   "outputs": [],
   "source": [
    "units  = 1e6\n",
    "pos_nl = np.squeeze(results[0]['position']) \n",
    "pos_rot_nl= cry_mod.rotating_frame(pos_nl,omega=wrot,t_max=dt)[:,:,0]\n",
    "pos_ax_nl = pos_nl[:,:,2]\n",
    "ps_ax_nl,freq_norm_ax_nl = cry_mod.psd(pos_ax_nl,dt,units=units,log=True)\n",
    "ps_nl,freq_norm_nl = cry_mod.psd(pos_rot_nl,dt,units=units,log=True)\n",
    "all_normal_freqs = ma.planarEvalsE/units/2/np.pi\n",
    "ax_normal_freqs = ma.axialEvalsE/units/2/np.pi\n",
    "\n",
    "\n",
    "\n",
    "fig = plt.figure(figsize=(11,8.5),constrained_layout=False)\n",
    "gs  = fig.add_gridspec(2, 2)\n",
    "ax1 = fig.add_subplot(gs[:, :])\n",
    "\n",
    "\n",
    "\n",
    "ax_modes = np.arange(0,num_ions)\n",
    "normal_freqs = ax_normal_freqs[ax_modes]\n",
    "ax1.axvline(ma.wz/units/np.pi/2\n",
    "            ,color='c'\n",
    "            ,label=r'$f_z$'\n",
    "            ,zorder=2)\n",
    "cry_mod.plot_psd(freq_norm_ax_nl,ps_ax_nl,ax1,fig,\n",
    "        label='Nonlinear Simulation',color='g'\n",
    "        ,normal_freqs = normal_freqs)    \n",
    "ax1.fill_between(freq_norm_ax_nl,ps_ax_nl,-30\n",
    "        ,color='g'\n",
    "        ,zorder=1\n",
    "        )\n",
    "secax_x = ax1.secondary_xaxis('top')\n",
    "secax_x.set_xlabel('Mode #',fontsize=20)\n",
    "labels  = np.array(list(map(str, (ax_modes+1))),dtype='<U5')\n",
    "freqs,labels = cry_mod.get_mode_ticks(labels,normal_freqs)\n",
    "ax1.tick_params(axis='x', labelsize=16)\n",
    "ax1.tick_params(axis='y', labelsize=16)\n",
    "secax_x.set_xticks(freqs) \n",
    "secax_x.set_xticklabels(labels,fontsize=16)\n",
    "ax1.legend(loc='lower left')\n",
    "ax1.set_title('Axial Mode Spectrum',fontsize=30)\n",
    "\n",
    "\n",
    "\n",
    "plt.show()\n",
    "\n",
    "\n",
    "\n",
    "\n",
    "fig = plt.figure(figsize=(11,8.5),constrained_layout=False)\n",
    "gs  = fig.add_gridspec(2, 2)\n",
    "ax1 = fig.add_subplot(gs[0, :])\n",
    "ax2 = fig.add_subplot(gs[1, :])\n",
    "\n",
    "\n",
    "mag_modes = np.arange(1,num_ions)\n",
    "normal_freqs = all_normal_freqs[mag_modes]\n",
    "ax1.axvline(omegaminus/units/np.pi/2\n",
    "            ,color='c'\n",
    "            ,label=r'$f_-$'\n",
    "            ,zorder=2)\n",
    "cry_mod.plot_psd(freq_norm,ps,ax1,fig,\n",
    "        label='Linear Simulation   ',color='b')    \n",
    "ax1.fill_between(freq_norm,ps,-30\n",
    "        ,color='b'\n",
    "        ,zorder=3\n",
    "        )\n",
    "cry_mod.plot_psd(freq_norm_nl,ps_nl,ax1,fig,\n",
    "        label='Nonlinear Simulation',color='g'\n",
    "        ,normal_freqs = normal_freqs)    \n",
    "ax1.fill_between(freq_norm_nl,ps_nl,-30\n",
    "        ,color='g'\n",
    "        ,zorder=1\n",
    "        )\n",
    "secax_x = ax1.secondary_xaxis('top')\n",
    "secax_x.set_xlabel('Mode #',fontsize=20)\n",
    "labels  = np.array(list(map(str, (mag_modes+1))),dtype='<U5')\n",
    "freqs,labels = cry_mod.get_mode_ticks(labels,normal_freqs)\n",
    "ax1.tick_params(axis='x', labelsize=16)\n",
    "ax1.tick_params(axis='y', labelsize=16)\n",
    "secax_x.set_xticks(freqs) \n",
    "secax_x.set_xticklabels(labels,fontsize=16)\n",
    "ax1.legend(loc='lower left')\n",
    "ax1.set_title('ExB Branch',fontsize=30)\n",
    "\n",
    "\n",
    "\n",
    "cyc_modes = np.arange(num_ions,2*num_ions)\n",
    "normal_freqs = all_normal_freqs[cyc_modes]\n",
    "ax2.axvline(omegaplus/units/np.pi/2\n",
    "            ,color='c'\n",
    "            ,label=r'$f_+$'\n",
    "            ,zorder=2)\n",
    "cry_mod.plot_psd(freq_norm,ps,ax2,fig,\n",
    "        label='Linear Simulation   '\n",
    "        ,color='b'\n",
    "        )\n",
    "ax2.fill_between(freq_norm,ps,-30\n",
    "        ,color='b'\n",
    "        ,zorder=3\n",
    "        )\n",
    "cry_mod.plot_psd(freq_norm_nl,ps_nl,ax2,fig,\n",
    "        label='Nonlinear Simulation'\n",
    "        ,color='g'\n",
    "        ,normal_freqs=normal_freqs)    \n",
    "ax2.fill_between(freq_norm_nl,ps_nl,-30\n",
    "        ,color='g'\n",
    "        ,zorder=1\n",
    "        )\n",
    "ax2.tick_params(axis='x', labelsize=16)\n",
    "ax2.tick_params(axis='y', labelsize=16)\n",
    "secax_x = ax2.secondary_xaxis('top')\n",
    "secax_x.set_xlabel('Mode #',fontsize=20)\n",
    "labels  = np.array(list(map(str, (cyc_modes+1))),dtype='<U5')\n",
    "freqs,labels = cry_mod.get_mode_ticks(labels,normal_freqs)\n",
    "secax_x.set_xticks(freqs) \n",
    "secax_x.set_xticklabels(labels,fontsize=16)\n",
    "ax2.legend(loc='lower left')\n",
    "ax2.set_title('Cyclotron Branch',fontsize=30)\n",
    "#ax2.set_xlim(0,omegaplus/units/np.pi/2)\n",
    "\n",
    "\n",
    "\n",
    "plt.tight_layout()\n",
    "#plt.savefig(pdir+'psd_comparison_nlVlin_'+lab_sim+'.png')\n",
    "plt.show()\n",
    "\n",
    "\n",
    "\n",
    "\n",
    "\n",
    "\n",
    "exit()\n"
   ]
  },
  {
   "cell_type": "code",
   "execution_count": 43,
   "id": "3c64d73c",
   "metadata": {},
   "outputs": [
    {
     "name": "stdout",
     "output_type": "stream",
     "text": [
      "[2 1 3]\n",
      "[5 4 6]\n",
      "[5.38516481 4.12310563 6.70820393]\n",
      "[1 2 3]\n",
      "[4 5 6]\n",
      "[4.12310563 5.38516481 6.70820393]\n",
      "[[ 0 -1 -2]\n",
      " [ 1  0 -1]\n",
      " [ 2  1  0]]\n",
      "[[ 0 -1 -2]\n",
      " [ 1  0 -1]\n",
      " [ 2  1  0]]\n",
      "[[0.         1.41421356 2.82842712]\n",
      " [1.41421356 0.         1.41421356]\n",
      " [2.82842712 1.41421356 0.        ]]\n",
      "[[0.         0.35355339 0.04419417]\n",
      " [0.35355339 0.         0.35355339]\n",
      " [0.04419417 0.35355339 0.        ]]\n",
      "[[-0.80112622  0.          0.        ]\n",
      " [ 0.         -0.64644661  0.        ]\n",
      " [ 0.          0.         -0.80112622]]\n",
      "[[-0.80112622 -0.1767767  -0.02209709]\n",
      " [-0.1767767  -0.64644661 -0.1767767 ]\n",
      " [-0.02209709 -0.1767767  -0.80112622]]\n",
      "[[0. 0. 0.]\n",
      " [0. 0. 0.]\n",
      " [0. 0. 0.]]\n",
      "[[1. 0. 0.]\n",
      " [0. 1. 0.]\n",
      " [0. 0. 1.]]\n",
      "[[2 0 0]\n",
      " [0 2 0]\n",
      " [0 0 2]]\n",
      "[[ 0.          0.          0.          1.          0.          0.        ]\n",
      " [ 0.          0.          0.          0.          1.          0.        ]\n",
      " [ 0.          0.          0.          0.          0.          1.        ]\n",
      " [-0.40056311 -0.08838835 -0.01104854  0.          0.          0.        ]\n",
      " [-0.08838835 -0.3232233  -0.08838835  0.          0.          0.        ]\n",
      " [-0.01104854 -0.08838835 -0.40056311  0.          0.          0.        ]]\n"
     ]
    }
   ],
   "source": [
    "x = np.array([2,1,3])\n",
    "y = np.array([5,4,6])\n",
    "r = np.sqrt(x ** 2 + y ** 2)\n",
    "print(x)\n",
    "print(y)\n",
    "print(r)\n",
    "sort_ind = np.argsort(r)\n",
    "\n",
    "r = r[sort_ind]\n",
    "x = x[sort_ind]\n",
    "y = y[sort_ind]\n",
    "print(x)\n",
    "print(y)\n",
    "print(r)\n",
    "\n",
    "dx = x.reshape((x.size, 1)) - x\n",
    "print(dx)\n",
    "dy = y.reshape((y.size, 1)) - y\n",
    "print(dy)\n",
    "rsep = np.sqrt(dx ** 2 + dy ** 2)\n",
    "print(rsep)\n",
    "\n",
    "with np.errstate(divide='ignore'):\n",
    "    rsep3 = np.where(rsep != 0., rsep ** (-3), 0)\n",
    "print(rsep3)\n",
    "\n",
    "K = np.diag((-1 + 0.5 * np.sum(rsep3, axis=0)))\n",
    "print(K)\n",
    "\n",
    "K -= 0.5 * rsep3\n",
    "print(K)\n",
    "\n",
    "Zn = np.zeros((3, 3))\n",
    "eyeN = np.identity(3)\n",
    "print(Zn)\n",
    "print(eyeN)\n",
    "Mmat = np.diag(np.array([2,2,2]))\n",
    "print(Mmat)\n",
    "Minv = np.linalg.inv(Mmat)\n",
    "firstOrder = np.bmat([[Zn, eyeN], [np.dot(Minv,K), Zn]])\n",
    "print(firstOrder)"
   ]
  },
  {
   "cell_type": "code",
   "execution_count": 13,
   "id": "d09f8a9a",
   "metadata": {},
   "outputs": [
    {
     "name": "stdout",
     "output_type": "stream",
     "text": [
      "[[ 0 -1 -5 -3]\n",
      " [ 1  0 -4 -2]\n",
      " [ 5  4  0  2]\n",
      " [ 3  2 -2  0]]\n",
      "[[ 0 -2 -3 -7]\n",
      " [ 2  0 -1 -5]\n",
      " [ 3  1  0 -4]\n",
      " [ 7  5  4  0]]\n",
      "[[0.         0.08944272 0.00504408 0.0022639 ]\n",
      " [0.08944272 0.         0.0142668  0.00640329]\n",
      " [0.00504408 0.0142668  0.         0.01118034]\n",
      " [0.0022639  0.00640329 0.01118034 0.        ]]\n",
      "[[-0.95162465  0.          0.          0.        ]\n",
      " [ 0.         -0.9449436   0.          0.        ]\n",
      " [ 0.          0.         -0.98475439  0.        ]\n",
      " [ 0.          0.          0.         -0.99007623]]\n",
      "[[-0.95162465 -0.13416408 -0.00756611 -0.00339586]\n",
      " [-0.13416408 -0.9449436  -0.0214002  -0.00960493]\n",
      " [-0.00756611 -0.0214002  -0.98475439 -0.01677051]\n",
      " [-0.00339586 -0.00960493 -0.01677051 -0.99007623]]\n"
     ]
    }
   ],
   "source": [
    "import numpy as np\n",
    "\n",
    "x = np.array([0,1,5,3])\n",
    "y = np.array([0,2,3,7])\n",
    "dx = x.reshape((x.size, 1)) - x\n",
    "dy = y.reshape((y.size, 1)) - y\n",
    "rsep = np.sqrt(dx ** 2 + dy ** 2)\n",
    "\n",
    "with np.errstate(divide='ignore'):\n",
    "    rsep3 = np.where(rsep != 0., rsep ** (-3), 0)\n",
    "\n",
    "Kp = np.diag((-1 + 0.5 * np.sum(rsep3, axis=0)))\n",
    "K -= 0.5 * rsep3\n",
    "\n",
    "\n",
    "print(dx)\n",
    "print(dy)\n",
    "print(rsep3)\n",
    "print(Kp)\n",
    "print(K)"
   ]
  },
  {
   "cell_type": "code",
   "execution_count": 39,
   "id": "41fbc783",
   "metadata": {},
   "outputs": [],
   "source": [
    "m = 9.012182*1.66057e-27\n",
    "q = 1.602176597458587e-19\n",
    "wz = 2*np.pi*1.58e6\n",
    "wc = 4.4588*q/m\n",
    "#wr = 180000*2*np.pi*20\n",
    "wr = (wc-np.sqrt(wc**2-6*wz**2))/2\n",
    "V0=(0.5 * m * wz**2) / q\n",
    "Volt_w = 30\n",
    "Volt_0 = V0 \n",
    "delta = 1612.*Volt_w / Volt_0\n",
    "Vw = 0.5*(m*wz**2/q)*delta\n",
    "eps0 = 8.85418782*10**-12\n",
    "\n",
    "def pot_eng_ax_pl_trap_3D(position):\n",
    "    shape   = np.shape(position)\n",
    "    dims,ions=shape\n",
    "    x = position[0,:]\n",
    "    y = position[1,:]\n",
    "    z = position[2,:]\n",
    "    pot_eng_ion = np.zeros((ions,2))\n",
    "    #pot_eng_ion = np.zeros((ions,1))\n",
    "    pot_eng_ion[:,0] = 0.5*m*wz**2*np.square(z)\n",
    "    pot_eng_ion[:,1] += -0.5*m*(wr**2 - wr*wc + 0.5*wz**2) *(np.square(x)+np.square(y))\n",
    "    pot_eng_ion[:,1] += q*Vw*(np.square(x)-np.square(y))\n",
    "    return np.sum(pot_eng_ion)\n",
    "\n",
    "def pot_eng_coul_3D(position):\n",
    "    shape   = np.shape(position)\n",
    "    dims,ions=shape\n",
    "    x = position[0,:]\n",
    "    y = position[1,:]\n",
    "    z = position[2,:]\n",
    "    pot_eng_ion = np.zeros(ions)\n",
    "    for ion1 in range(ions):\n",
    "        for ion2 in range(ions):\n",
    "            if ion1!=ion2:\n",
    "                dx = x[ion1] - x[ion2]\n",
    "                dy = y[ion1] - y[ion2]\n",
    "                dz = z[ion1] - z[ion2]\n",
    "                r = np.sqrt(dx**2 + dy**2 + dz**2)\n",
    "                #r = np.sqrt(dx**2 + dy**2)\n",
    "                pot_eng_ion[ion1] += q**2/(4*np.pi*eps0*r)\n",
    "    return np.sum(pot_eng_ion)/2\n",
    "\n",
    "def pot_eng_coul_3D_fmm(position):\n",
    "    shape   = np.shape(position)\n",
    "    dims,ions=shape\n",
    "    x = position[0,:]\n",
    "    y = position[1,:]\n",
    "    z = position[2,:]\n",
    "    sources = np.array([x,y,z])\n",
    "    charges = np.full(ions, 1.0)\n",
    "    fmm_out = fmm.lfmm3d(eps=10**-5, sources=sources,charges=charges,dipvec=None,targets=None,pg=2,pgt=0,nd=1)\n",
    "    #print(fmm_out.pot)\n",
    "    Vc_tot = np.sum(fmm_out.pot) * q**2/(4*np.pi*eps0)\n",
    "    return Vc_tot/2\n",
    "\n",
    "    \n",
    "def pot_en_3D(position):\n",
    "    return pot_eng_ax_pl_trap_3D(position) + pot_eng_coul_3D(position)\n",
    "#pot_en_3D(start_pos)\n",
    "#print(pot_en_3D(start_pos))\n",
    "\n",
    "def pot_en_3D_fmm(position):\n",
    "    return pot_eng_ax_pl_trap_3D(position) + pot_eng_coul_3D_fmm(position)\n",
    "#pot_en_3D_fmm(start_pos)"
   ]
  },
  {
   "cell_type": "code",
   "execution_count": 40,
   "id": "772711f7",
   "metadata": {},
   "outputs": [],
   "source": [
    "def force_penning3D(pos_array, Nion):\n",
    "        \"\"\"\n",
    "        Computes the net forces acting on each ion in the crystal;\n",
    "        used as the jacobian by find_eq_pos to minimize the potential energy\n",
    "        of a crystal configuration.\n",
    "\n",
    "        :param pos_array: crystal to find forces of.\n",
    "        :return: a vector of size 2N describing the x forces and y forces.\n",
    "        \"\"\"\n",
    "\n",
    "        x = pos_array[0:Nion]\n",
    "        y = pos_array[Nion:2*Nion]\n",
    "        z = pos_array[2*Nion:3*Nion]\n",
    "        \n",
    "        sources = np.array([x,y,z])\n",
    "        q= 1.60217663 * 10**-19\n",
    "        charges = np.full(Nion, q)\n",
    "        fmm_out = fmm.lfmm3d(eps=10**-9, sources=sources,charges=charges,dipvec=None,targets=None,pg=2,pgt=0,nd=1)\n",
    "        #print(fmm_out.pot)\n",
    "        #print(\"start\")\n",
    "        #print(fmm_out.grad)\n",
    "        #print(\"end\")\n",
    "        fx = fmm_out.grad[0]*q/(4*np.pi*eps0)\n",
    "        fy = fmm_out.grad[1]*q/(4*np.pi*eps0)\n",
    "        fz = fmm_out.grad[2]*q/(4*np.pi*eps0)\n",
    "        #print(fx)\n",
    "\n",
    "        '''\n",
    "        dx = x.reshape((x.size, 1)) - x\n",
    "        dy = y.reshape((y.size, 1)) - y\n",
    "        dz = z.reshape((z.size, 1)) - z\n",
    "        rsep = np.sqrt(dx ** 2 + dy ** 2 + dz ** 2)\n",
    "\n",
    "        # Calculate coulomb force on each ion\n",
    "        with np.errstate(divide='ignore'):\n",
    "            Fc = np.where(rsep != 0., rsep ** (-2), 0)\n",
    "\n",
    "        with np.errstate(divide='ignore', invalid='ignore'):\n",
    "            fx = np.where(rsep != 0., np.float64((dx / rsep) * Fc), 0)\n",
    "            fy = np.where(rsep != 0., np.float64((dy / rsep) * Fc), 0)\n",
    "            fz = np.where(rsep != 0., np.float64((dz / rsep) * Fc), 0)\n",
    "        '''\n",
    "\n",
    "        # total force on each ion\n",
    "\n",
    "        \"\"\" Deprecated version below which uses anharmonic trap potentials\n",
    "        Ftrapx = (-m * wr ** 2 - q * self.Coeff[2] + q * B * wr + 2 * self.Cw2) * x \\\n",
    "            - 4 * q * self.Coeff[3] * (x ** 3 + x * y ** 2) + 3 * self.Cw3 * (x ** 2 - y ** 2)\n",
    "        Ftrapy = (-m * wr ** 2 - q * self.Coeff[2] + q * B * wr - 2 * self.Cw2) * y \\\n",
    "            - 4 * q * self.Coeff[3] * (y ** 3 + y * x ** 2) - 6 * self.Cw3 * x * y\n",
    "\n",
    "        # Ftrap =  (m*w**2 + q*self.V0 - 2*q*self.Vw - q*self.B* w) * pos_array\n",
    "        \"\"\"\n",
    "        m = 9.012182*1.66057*10**-27\n",
    "        Ftrapx = -m * (wr ** 2 - wr * wc + 0.5*wz**2 -\n",
    "                                 q*Vw) * x\n",
    "        Ftrapy = -m * (wr ** 2 - wr * wc + 0.5*wz**2 +\n",
    "                                 q*Vw) * y\n",
    "        Ftrapz =  m * wz**2*z\n",
    "        Fx = +fx + Ftrapx\n",
    "        Fy = +fy + Ftrapy\n",
    "        Fz = +fz + Ftrapz\n",
    "\n",
    "        return np.array([Fx, Fy, Fz]).flatten()"
   ]
  },
  {
   "cell_type": "code",
   "execution_count": 41,
   "id": "dc55cb9e",
   "metadata": {},
   "outputs": [
    {
     "name": "stdout",
     "output_type": "stream",
     "text": [
      "3.206961630717153e-19\n"
     ]
    }
   ],
   "source": [
    "pos_load = np.concatenate((load_xrot,load_yrot,load_zrot), axis= None)\n",
    "forces = force_penning3D(pos_load, 236)\n",
    "forces3D = np.zeros(236)\n",
    "for i in range(236):\n",
    "    forces3D = (forces[i]**2 + forces[i+236]**2 + forces[i+2*236]**2)**0.5\n",
    "print(np.mean(forces3D))"
   ]
  },
  {
   "cell_type": "code",
   "execution_count": 8,
   "id": "cab20fc7",
   "metadata": {},
   "outputs": [
    {
     "name": "stdout",
     "output_type": "stream",
     "text": [
      "3.383253747125708e-19\n",
      "3.383251615568359e-19\n"
     ]
    }
   ],
   "source": [
    "initial = np.array([load_xrot, load_yrot, load_zrot])\n",
    "final = np.array([ma_instance_fmm.uE[0:236], ma_instance_fmm.uE[236:2*236], ma_instance_fmm.uE[2*236:3*236]])\n",
    "print(pot_en_3D_fmm(initial))\n",
    "print(pot_en_3D_fmm(final))"
   ]
  },
  {
   "cell_type": "code",
   "execution_count": 7,
   "id": "7885d097",
   "metadata": {},
   "outputs": [],
   "source": [
    "nion=5000\n",
    "np.savetxt(\"5000i_ma_min_x_051823.csv\", ma_instance_fmm.uE[0:nion], delimiter=\",\")\n",
    "np.savetxt(\"5000i_ma_min_y_051823.csv\", ma_instance_fmm.uE[nion:2*nion], delimiter=\",\")\n",
    "np.savetxt(\"5000i_ma_min_z_051823.csv\", ma_instance_fmm.uE[2*nion:3*nion], delimiter=\",\")"
   ]
  },
  {
   "cell_type": "code",
   "execution_count": 3,
   "id": "144f36f1",
   "metadata": {},
   "outputs": [],
   "source": [
    "m = 9.012182*1.66057e-27\n",
    "q = 1.602176597458587e-19\n",
    "wz = 2*np.pi*1.58e6\n",
    "wc = 4.4588*q/m\n",
    "#wr = 180000*2*np.pi*20\n",
    "wr = (wc-np.sqrt(wc**2-6*wz**2))/2\n",
    "V0=(0.5 * m * wz**2) / q\n",
    "Volt_w = 30\n",
    "Volt_0 = V0 \n",
    "delta = 1612.*Volt_w / Volt_0\n",
    "Vw = 0.5*(m*wz**2/q)*delta\n",
    "eps0 = 8.85418782*10**-12\n",
    "nion=236\n",
    "\n",
    "def pot_eng_ax_pl_trap_3D(position):\n",
    "    #shape   = np.shape(position)\n",
    "    #dims,ions=shape\n",
    "    x = position[0:nion]\n",
    "    y = position[nion:2*nion]\n",
    "    z = position[2*nion:3*nion]\n",
    "    pot_eng_ion = np.zeros((nion,2))\n",
    "    #pot_eng_ion = np.zeros((ions,1))\n",
    "    pot_eng_ion[:,0] = 0.5*m*wz**2*np.square(z)\n",
    "    pot_eng_ion[:,1] += -0.5*m*(wr**2 - wr*wc + 0.5*wz**2) *(np.square(x)+np.square(y))\n",
    "    pot_eng_ion[:,1] += q*Vw*(np.square(x)-np.square(y))\n",
    "    return np.sum(pot_eng_ion)\n",
    "'''\n",
    "def pot_eng_coul_3D(position):\n",
    "    #shape   = np.shape(position)\n",
    "    #dims,ions=shape\n",
    "    x = position[0:100]\n",
    "    y = position[101:200]\n",
    "    z = position[201:300]\n",
    "    pot_eng_ion = np.zeros(ions)\n",
    "    for ion1 in range(ions):\n",
    "        for ion2 in range(ions):\n",
    "            if ion1!=ion2:\n",
    "                dx = x[ion1] - x[ion2]\n",
    "                dy = y[ion1] - y[ion2]\n",
    "                dz = z[ion1] - z[ion2]\n",
    "                r = np.sqrt(dx**2 + dy**2 + dz**2)\n",
    "                #r = np.sqrt(dx**2 + dy**2)\n",
    "                pot_eng_ion[ion1] += q**2/(4*np.pi*eps0*r)\n",
    "    return np.sum(pot_eng_ion)/2\n",
    "'''\n",
    "def pot_eng_coul_3D_fmm(position):\n",
    "    #shape   = np.shape(position)\n",
    "    #dims,ions=shape\n",
    "    x = position[0:nion]\n",
    "    y = position[nion:2*nion]\n",
    "    z = position[2*nion:3*nion]\n",
    "    sources = np.array([x,y,z])\n",
    "    charges = np.full(nion, 1.0)\n",
    "    fmm_out = fmm.lfmm3d(eps=10**-5, sources=sources,charges=charges,dipvec=None,targets=None,pg=2,pgt=0,nd=1)\n",
    "    #print(fmm_out.pot)\n",
    "    Vc_tot = np.sum(fmm_out.pot) * q**2/(4*np.pi*eps0)\n",
    "    return Vc_tot/2\n",
    "\n",
    "'''    \n",
    "def pot_en_3D(position):\n",
    "    return pot_eng_ax_pl_trap_3D(position) + pot_eng_coul_3D(position)\n",
    "pot_en_3D(start_pos)\n",
    "'''\n",
    "def pot_en_3D_fmm(position):\n",
    "    return 10**20*(pot_eng_ax_pl_trap_3D(position) + pot_eng_coul_3D_fmm(position))"
   ]
  },
  {
   "cell_type": "code",
   "execution_count": 47,
   "id": "8b3b5608",
   "metadata": {},
   "outputs": [],
   "source": [
    "lw = [-40* 10**-6] * 236*3\n",
    "up = [40* 10**-6] * 236*3\n",
    "ret = optimize.dual_annealing(pot_en_3D_fmm, bounds=list(zip(lw, up)), restart_temp_ratio=0.5, maxiter=20)"
   ]
  },
  {
   "cell_type": "code",
   "execution_count": 38,
   "id": "361432e4",
   "metadata": {},
   "outputs": [],
   "source": [
    "ret2 = optimize.dual_annealing(pot_en_3D_fmm, bounds=list(zip(ret.x-0.1*np.absolute(ret.x), ret.x+0.1*np.absolute(ret.x))), initial_temp=10**-8, restart_temp_ratio=0.5, maxiter=5)"
   ]
  },
  {
   "cell_type": "code",
   "execution_count": 66,
   "id": "ebe6d5a5",
   "metadata": {},
   "outputs": [
    {
     "name": "stdout",
     "output_type": "stream",
     "text": [
      "3.383289229768676e-19\n"
     ]
    }
   ],
   "source": [
    "initial = np.array([load_xrot, load_yrot, load_zrot])\n",
    "#final = np.array([ma_instance_fmm.uE[0:236], ma_instance_fmm.uE[236:2*236], ma_instance_fmm.uE[2*236:3*236]])\n",
    "print(pot_en_3D_fmm(initial))\n",
    "#print(pot_en_3D_fmm(final))"
   ]
  },
  {
   "cell_type": "code",
   "execution_count": 46,
   "id": "d6051001",
   "metadata": {},
   "outputs": [
    {
     "name": "stdout",
     "output_type": "stream",
     "text": [
      "     fun: 33.83449736403265\n",
      " message: ['Maximum number of iteration reached']\n",
      "    nfev: 51045\n",
      "    nhev: 0\n",
      "     nit: 3\n",
      "    njev: 66\n",
      "  status: 0\n",
      " success: True\n",
      "       x: array([ 1.28944189e-05, -1.76729598e-05, -1.35128025e-05,  1.36551553e-05,\n",
      "        7.27010219e-07,  2.89247303e-06, -2.82436315e-05, -1.40525074e-05,\n",
      "        2.08778346e-06, -1.60539319e-05, -9.38494909e-06, -1.30921387e-05,\n",
      "       -4.26181580e-06, -3.12645661e-06, -2.48065307e-05, -8.67903258e-06,\n",
      "        1.04371817e-05,  1.85104750e-05, -1.70583494e-05, -2.91416717e-05,\n",
      "       -2.17057496e-05,  6.55383417e-06, -5.64729777e-07,  9.64892810e-07,\n",
      "       -2.02781259e-05,  1.57692968e-05,  1.44874822e-05, -6.37419742e-06,\n",
      "       -5.59647699e-07, -5.22880973e-06,  1.29742862e-05,  9.12288452e-06,\n",
      "        4.18362446e-06,  6.22098426e-06,  3.37225995e-06, -4.51159909e-06,\n",
      "       -1.04469918e-05, -2.05856993e-05,  1.35171213e-05, -1.72213001e-05,\n",
      "        1.19565761e-05,  2.88763879e-06, -4.63174657e-06,  1.38378849e-05,\n",
      "        9.67416647e-06,  8.68491009e-06,  2.83341844e-06,  1.46441023e-05,\n",
      "       -1.47874073e-05, -6.46390428e-06, -1.88725481e-05,  1.53804048e-05,\n",
      "       -2.53843355e-06,  9.78868955e-06, -2.22943775e-06, -2.77455307e-05,\n",
      "       -9.87087564e-06,  1.23678059e-05,  2.81097989e-05,  6.00227960e-06,\n",
      "        1.33413202e-06,  1.96806667e-05,  1.05628226e-05, -5.59687463e-06,\n",
      "       -2.13996701e-05, -1.15116764e-06, -2.15741594e-05,  1.84667956e-05,\n",
      "        1.18991728e-05, -1.30804488e-05,  1.30322665e-05,  3.99087416e-06,\n",
      "        1.91075061e-05,  2.80625242e-05,  2.15979207e-06, -9.62536432e-06,\n",
      "       -9.25551309e-06, -1.61089299e-05,  9.55974318e-07,  1.68457387e-05,\n",
      "       -8.64249217e-06,  2.62501953e-05,  1.42109657e-05,  1.81854827e-05,\n",
      "        7.85374043e-06,  2.81442993e-05, -9.91897254e-06, -9.66949207e-06,\n",
      "        2.68007577e-05, -1.42808818e-05,  1.09861234e-05,  3.43552989e-07,\n",
      "        2.18997911e-05, -2.69673634e-05, -7.02094416e-06, -2.22191322e-05,\n",
      "       -1.92369295e-05,  1.15137934e-05,  2.61093841e-05,  1.89377241e-05,\n",
      "       -1.22036032e-05,  4.73230089e-06, -4.36567824e-06,  1.55611151e-05,\n",
      "       -2.31951485e-05,  4.61914053e-06,  9.92746693e-06,  6.16345893e-06,\n",
      "        2.36435427e-05,  6.88559678e-06, -1.42916316e-05,  2.49704319e-05,\n",
      "        4.70223705e-06,  3.00892786e-06, -1.48472104e-05,  2.89932071e-05,\n",
      "        2.04645662e-05, -6.85433704e-06,  1.85761150e-05,  1.78310531e-05,\n",
      "       -4.99119450e-06,  1.44533949e-05,  2.32169895e-05, -1.73032935e-05,\n",
      "       -3.48999313e-06, -2.56758783e-06,  8.61162188e-06, -6.83224910e-07,\n",
      "       -1.06633987e-05, -1.24849516e-05, -6.60196726e-06,  2.62817193e-05,\n",
      "        1.53234857e-05, -7.14172641e-06,  2.10064726e-05,  2.64990006e-06,\n",
      "        6.96666075e-06,  8.55420623e-06,  8.88769581e-06, -1.36550305e-05,\n",
      "        3.80204134e-06,  1.81979285e-05, -1.91147381e-05, -1.28391203e-05,\n",
      "       -1.74833207e-05, -1.67823137e-05, -1.36769235e-06, -1.33143243e-05,\n",
      "       -1.41761722e-05, -1.98091657e-06,  1.09401340e-05, -1.24224374e-05,\n",
      "       -1.04151910e-05,  1.38510142e-05, -1.72607828e-05, -2.44682638e-05,\n",
      "        8.85479038e-07,  1.35889083e-05, -8.17315886e-06, -1.03830954e-05,\n",
      "        7.61278070e-06, -8.74406814e-06, -4.32996980e-06, -2.50212921e-05,\n",
      "        2.47207146e-05, -1.66759454e-05,  2.17733045e-05, -1.81530455e-05,\n",
      "        3.94157896e-06,  1.08051356e-05,  9.86610702e-07,  3.48887289e-06,\n",
      "        1.01633436e-05,  1.71204560e-05,  5.39729820e-06, -1.10565309e-05,\n",
      "       -2.63474448e-05, -6.00638338e-06, -2.82441644e-05, -1.29248580e-05,\n",
      "        2.91773197e-06,  7.72959350e-06, -5.76572773e-06,  1.84139178e-05,\n",
      "        9.73111425e-07, -1.21575610e-05, -1.41743489e-06, -1.36502632e-06,\n",
      "        6.12361814e-06,  5.89346925e-06, -1.48557782e-06,  1.64777124e-05,\n",
      "        2.10309450e-05, -2.66958557e-05,  1.95543946e-05,  6.81229775e-06,\n",
      "        1.00680103e-05, -1.65261328e-05, -1.04311350e-06,  5.94327552e-06,\n",
      "       -2.65350546e-05,  2.50820894e-05,  1.32997869e-06,  1.37599935e-05,\n",
      "       -2.61650850e-06, -4.13835499e-06,  2.00839630e-05, -2.23414240e-05,\n",
      "       -7.84375860e-06,  2.10344627e-05, -3.19199765e-06, -8.04538632e-06,\n",
      "       -2.09681546e-05, -2.04517875e-05,  2.52376628e-05,  1.37848869e-05,\n",
      "        5.90008791e-06,  1.15520241e-06,  9.66414066e-07, -2.13731589e-05,\n",
      "       -3.41930008e-06, -1.88346167e-05,  6.34366648e-06, -6.02977012e-06,\n",
      "       -2.44020913e-05,  2.21692582e-05,  2.17652501e-05, -2.96368188e-06,\n",
      "       -7.35654013e-06, -6.71712147e-06, -1.16588070e-05,  9.86570273e-06,\n",
      "       -2.30409006e-05, -5.94060338e-06, -1.96625292e-05, -1.03637645e-05,\n",
      "        1.62682504e-05, -2.37459448e-05,  2.81980975e-06, -1.58344684e-05,\n",
      "       -5.04038356e-06,  2.53991753e-06, -7.77048562e-06, -1.13750239e-05,\n",
      "       -2.21899417e-05,  1.38058923e-05, -1.63196594e-05,  1.24816080e-05,\n",
      "        2.96093549e-06, -2.85033274e-05, -7.57474645e-07,  1.57685434e-05,\n",
      "        2.15210065e-06,  1.58213129e-05,  1.41352321e-05,  1.32569360e-06,\n",
      "        1.62995146e-05,  1.54885403e-05,  6.18276930e-06,  1.69401129e-05,\n",
      "       -5.36647083e-06, -1.58256137e-05,  1.05106946e-05,  1.19983870e-05,\n",
      "       -1.28509463e-06, -1.15366528e-05,  2.26361343e-05,  1.57751180e-05,\n",
      "       -1.03732512e-05,  2.92404438e-05,  1.12052194e-05,  2.09284579e-05,\n",
      "       -1.91257745e-05,  6.21569880e-06, -2.44058520e-05, -6.81713722e-06,\n",
      "       -5.65405232e-06,  2.10047213e-05,  2.73060832e-05,  2.54820573e-05,\n",
      "        6.05007545e-06,  1.01130587e-06, -2.43005273e-06,  2.54000502e-05,\n",
      "       -1.84223745e-05, -2.42734798e-05, -2.15168814e-05, -3.08058635e-07,\n",
      "        1.91488950e-05,  1.74363353e-05, -1.38237366e-05,  9.51582451e-06,\n",
      "        1.15204851e-05, -1.37461397e-06, -7.81104262e-06,  2.30296446e-05,\n",
      "        1.64562972e-05, -8.27451679e-06, -2.36230738e-05, -1.25209607e-05,\n",
      "        2.69626770e-06,  1.09145298e-05, -1.57699772e-05,  8.84508434e-06,\n",
      "       -1.27397212e-05,  1.63769973e-05,  8.75923807e-06, -1.81043698e-05,\n",
      "       -1.39042485e-05, -4.23825128e-06,  2.98468117e-07, -1.11514706e-06,\n",
      "       -2.80941750e-05, -1.34295470e-05, -2.54242108e-05,  7.33981917e-07,\n",
      "       -7.08097631e-06,  9.46154468e-06, -6.71119704e-06, -1.24860971e-05,\n",
      "        1.45473854e-05,  5.14152015e-06, -1.58381766e-05,  2.07993200e-05,\n",
      "       -2.45075328e-06, -9.87424931e-06, -2.10256905e-05, -2.94927329e-05,\n",
      "        6.87308948e-06, -4.76800883e-06, -2.29048553e-05,  1.78605537e-05,\n",
      "       -3.03430814e-06, -1.72449696e-05,  9.18207335e-07,  9.83462602e-06,\n",
      "        1.13672474e-06, -7.55662180e-06, -2.81584746e-05,  8.89610236e-06,\n",
      "       -2.94633995e-06,  8.89066942e-06, -1.47518688e-05,  2.76473087e-05,\n",
      "        3.89251275e-06, -1.10403041e-05, -1.93298496e-05, -9.27826885e-06,\n",
      "       -2.66522481e-05, -1.99534527e-05,  3.37213752e-06,  2.82307049e-06,\n",
      "        1.18302460e-05,  7.72311731e-06, -2.01667405e-05, -6.93130890e-06,\n",
      "       -8.15077655e-07,  2.26896127e-05, -1.74165207e-05,  9.57514445e-06,\n",
      "       -1.55538815e-05,  2.54425870e-05, -4.74297912e-06, -5.10277774e-08,\n",
      "       -1.39948144e-05, -6.40598063e-06,  2.23958515e-05,  1.30499536e-05,\n",
      "       -8.08165712e-06, -6.09006158e-07,  1.73233375e-05, -1.25832946e-05,\n",
      "       -1.82622392e-05, -2.81961753e-05, -5.01265158e-06,  3.00134296e-06,\n",
      "       -1.27080366e-05,  1.34711933e-06,  1.97917105e-06,  7.10275766e-06,\n",
      "       -1.92595410e-06, -6.47636917e-06, -5.76598983e-06,  7.71706593e-06,\n",
      "       -3.78966208e-07,  1.56009875e-05, -1.39474704e-05,  1.55962268e-05,\n",
      "       -3.80524527e-06,  9.01106561e-06,  2.06382874e-05, -1.66576584e-05,\n",
      "        5.59440362e-06,  1.65157865e-05,  1.12232472e-05,  2.59990933e-05,\n",
      "       -6.68836535e-06, -5.18437131e-06,  1.65685187e-05, -1.29766741e-05,\n",
      "       -1.17589832e-05,  2.29436907e-05,  1.86450222e-05, -1.26312295e-05,\n",
      "        2.35909873e-05,  7.54474963e-06, -1.51844832e-05, -3.19517756e-06,\n",
      "        3.18705700e-06, -7.81923136e-06, -2.81625981e-05, -9.14896477e-06,\n",
      "       -9.08843148e-06,  3.49596351e-06,  7.84508355e-08,  2.16933631e-05,\n",
      "        5.17625712e-06,  3.03380605e-06,  3.35562461e-06, -2.32388277e-05,\n",
      "       -2.97473535e-06, -2.48924446e-05,  2.84665963e-05, -9.96641269e-06,\n",
      "        2.74006596e-05,  9.41024174e-06, -2.09522308e-05,  2.02680036e-06,\n",
      "        2.03696166e-05,  1.01809726e-05,  1.39635155e-06, -2.07973460e-05,\n",
      "       -9.84067866e-06,  2.43276947e-05, -1.90503949e-05,  5.98903648e-06,\n",
      "        4.38664538e-06,  1.07335552e-05,  2.00831050e-05,  1.71092171e-05,\n",
      "        2.93879975e-05, -6.01505545e-06, -1.82202273e-05,  1.22222094e-05,\n",
      "        1.98858233e-05,  4.11487027e-07, -1.98045405e-05,  9.00442221e-06,\n",
      "       -1.19973443e-05,  5.63322973e-06, -1.43891617e-05, -2.56481706e-05,\n",
      "        1.19158351e-05, -1.09692376e-05,  1.13128261e-05, -8.29667597e-06,\n",
      "        8.44456554e-06,  1.02128661e-05,  2.07068498e-05,  3.73691984e-06,\n",
      "        7.62114967e-06, -5.33651859e-06, -3.89591355e-06,  1.22091399e-05,\n",
      "       -1.78565472e-05, -5.96154908e-06, -2.55180558e-05, -1.89791075e-06,\n",
      "        1.81015192e-05, -9.14274939e-06, -1.94802039e-05,  2.81315977e-05,\n",
      "       -3.16921555e-06, -1.90249990e-06,  5.82377461e-06, -4.21544726e-06,\n",
      "       -2.91041352e-05,  2.09388091e-05,  2.99899155e-07,  2.31135911e-05,\n",
      "        1.94974135e-05, -2.01265704e-05,  8.42573036e-06,  1.05271767e-05,\n",
      "       -2.91895384e-05,  8.00860453e-06,  1.54832487e-05,  2.41504725e-05,\n",
      "       -1.87766246e-05,  1.63487953e-05,  1.91445865e-05, -2.75110421e-06,\n",
      "        1.17182105e-05, -2.42615065e-05, -1.21441569e-05,  2.45041374e-05,\n",
      "       -1.51212162e-06,  4.96349148e-06,  2.33249100e-05, -1.70127182e-05,\n",
      "       -5.42236620e-06,  1.00762577e-06,  1.37356773e-05, -1.09543448e-05,\n",
      "       -1.82851204e-05, -5.64940815e-07, -5.81250343e-06,  1.81370754e-05,\n",
      "        6.09132889e-08,  2.01522236e-05,  9.50289456e-06, -1.01487523e-05,\n",
      "       -1.61571934e-05, -5.65181525e-06,  1.20242073e-05, -4.10615833e-06,\n",
      "        1.73152170e-05,  2.80144148e-05, -1.40682047e-05,  4.95986036e-06,\n",
      "       -1.73585193e-05,  1.58564765e-05,  6.82772237e-06,  1.43967933e-05,\n",
      "       -2.28600433e-05,  2.15127071e-05, -2.60531962e-05,  4.18827386e-06,\n",
      "       -2.54869378e-05, -1.36894713e-06, -2.72345443e-06, -1.80303945e-05,\n",
      "       -1.50971853e-05, -8.18530345e-08, -1.42978308e-05,  1.62846608e-05,\n",
      "        1.03510252e-06, -2.65307071e-05,  1.31142654e-05, -6.34746598e-06,\n",
      "        1.30713835e-05,  7.03636942e-07, -1.34973196e-05, -1.05428763e-05,\n",
      "       -1.72902757e-05,  5.05091046e-06, -2.22909223e-05,  2.77880975e-05,\n",
      "       -1.85453047e-07, -3.68925625e-06, -1.49812775e-05, -1.10690290e-05,\n",
      "       -5.80616188e-06, -9.45471578e-06,  2.50168763e-05,  1.90670434e-05,\n",
      "        1.34336454e-05,  4.22868093e-06, -9.60324810e-06, -1.80566256e-05,\n",
      "       -1.05042198e-05,  1.31216717e-05,  1.72422040e-05, -9.86102072e-08,\n",
      "        1.79750472e-05, -9.39205022e-06, -1.80200549e-05, -6.05752264e-06,\n",
      "        9.07551663e-06, -2.09922337e-05,  1.25412358e-05,  2.51691296e-06,\n",
      "       -3.74419502e-06,  2.79442706e-05, -8.12523896e-06,  1.11574820e-05,\n",
      "       -1.76180190e-05, -1.85055216e-05,  2.33469299e-05,  9.26980453e-06,\n",
      "       -1.62176750e-05, -2.63735689e-05,  1.65472536e-05,  1.24667019e-05,\n",
      "        1.17094386e-05, -2.15911962e-05,  1.45696112e-05, -3.82592222e-06,\n",
      "       -1.73929706e-05, -6.15055228e-06, -1.08294502e-05,  8.56190095e-06,\n",
      "        2.44647602e-06, -1.22720867e-05, -3.40499768e-06, -4.37949902e-06,\n",
      "       -1.66464677e-05, -1.42644094e-05,  1.89554191e-05,  2.94836097e-05,\n",
      "       -2.37718559e-05,  2.93911439e-06, -1.91303091e-06, -6.50044407e-07,\n",
      "       -2.38384613e-05, -1.20423413e-05, -9.80805208e-06, -2.22484902e-06,\n",
      "        7.02550390e-06,  3.07257276e-06,  9.63765436e-06, -2.58647637e-05,\n",
      "        1.63258362e-05, -2.30069307e-05, -9.02377343e-06,  2.52859363e-05,\n",
      "        2.34175430e-05, -2.34470270e-05,  2.09327477e-05, -1.34466554e-05,\n",
      "       -1.73892132e-05,  9.13148094e-07, -1.24424863e-05, -8.73942323e-06,\n",
      "        1.81874359e-05, -2.42400239e-05, -1.32572579e-05,  7.58910848e-07,\n",
      "        7.66504165e-07,  6.26111469e-06,  1.71340623e-05, -9.45341127e-06,\n",
      "       -7.10287139e-06, -2.75137677e-05, -8.61705468e-06, -7.79222720e-06,\n",
      "       -1.03548828e-05,  7.41361028e-06,  7.63529157e-06,  5.17469469e-06,\n",
      "        1.76005834e-05, -1.60051754e-06,  2.50488039e-05,  2.32715462e-06,\n",
      "        6.34101362e-06, -8.43962161e-06, -7.40197658e-06, -1.57846682e-05,\n",
      "        8.90870367e-06,  1.09803679e-05,  6.80926815e-06,  1.55709498e-05,\n",
      "        1.06875249e-05, -8.38991065e-06,  2.02797315e-05,  1.93256972e-06,\n",
      "        1.27612334e-05, -9.79229687e-06,  3.77903981e-06, -9.95462003e-06,\n",
      "       -1.00279316e-05,  2.70777420e-05,  2.68376459e-06,  2.37609959e-05,\n",
      "       -1.41045303e-06, -4.75637327e-06,  5.87210206e-06, -1.71997175e-06,\n",
      "        1.80293782e-06, -2.74797086e-06,  1.13640888e-05, -2.84153164e-05,\n",
      "       -1.21251493e-05,  1.02108446e-05,  9.69549600e-06, -1.92411948e-05,\n",
      "       -5.40304831e-06, -2.00373566e-05,  1.22899824e-05, -1.35547881e-05,\n",
      "        7.83073453e-06, -2.86657388e-06, -6.01480085e-06,  2.35487957e-06,\n",
      "       -1.66963090e-05, -2.02969276e-05,  4.79261923e-06, -5.14170203e-06,\n",
      "        4.85883218e-06,  7.32532519e-06,  1.81235675e-05,  1.82880018e-05,\n",
      "        2.78308021e-05,  4.87514503e-06,  2.20179316e-06, -2.02024858e-05,\n",
      "        1.22366731e-05, -1.76894827e-05,  1.91021102e-05,  9.69692578e-06,\n",
      "        2.26394725e-05,  9.77074431e-06,  8.35504649e-06, -2.75323912e-05,\n",
      "        2.52280170e-06,  2.74786111e-05, -9.75395003e-06,  3.38473199e-06])\n"
     ]
    }
   ],
   "source": [
    "print(ret)"
   ]
  },
  {
   "cell_type": "code",
   "execution_count": 20,
   "id": "badad7a3",
   "metadata": {},
   "outputs": [
    {
     "name": "stdout",
     "output_type": "stream",
     "text": [
      "3.3833270186486997e-19\n"
     ]
    }
   ],
   "source": [
    "print(pot_en_3D_fmm(ret.x)/(10**20))"
   ]
  },
  {
   "cell_type": "code",
   "execution_count": null,
   "id": "a4e85f3e",
   "metadata": {},
   "outputs": [],
   "source": [
    "import random\n",
    "ret_bh = optimize.basinhopping(pot_en_3D_fmm, (np.random.rand(236*3)-0.5)*10**5, niter=100, T = 10**-2, bounds=list(zip(lw, up)), restart_temp_ratio=0.5, maxiter=3)"
   ]
  },
  {
   "cell_type": "code",
   "execution_count": 6,
   "id": "683af21f",
   "metadata": {},
   "outputs": [
    {
     "data": {
      "text/plain": [
       "(array([-100.,  -75.,  -50.,  -25.,    0.,   25.,   50.,   75.,  100.]),\n",
       " [Text(0, 0, ''),\n",
       "  Text(0, 0, ''),\n",
       "  Text(0, 0, ''),\n",
       "  Text(0, 0, ''),\n",
       "  Text(0, 0, ''),\n",
       "  Text(0, 0, ''),\n",
       "  Text(0, 0, ''),\n",
       "  Text(0, 0, ''),\n",
       "  Text(0, 0, '')])"
      ]
     },
     "execution_count": 6,
     "metadata": {},
     "output_type": "execute_result"
    },
    {
     "data": {
      "image/png": "[encoded data removed]",
      "text/plain": [
       "<Figure size 1440x1440 with 1 Axes>"
      ]
     },
     "metadata": {
      "needs_background": "light"
     },
     "output_type": "display_data"
    },
    {
     "data": {
      "image/png": "[encoded data removed]",
      "text/plain": [
       "<Figure size 1440x1440 with 1 Axes>"
      ]
     },
     "metadata": {
      "needs_background": "light"
     },
     "output_type": "display_data"
    }
   ],
   "source": [
    "%matplotlib inline\n",
    "nion = 5000\n",
    "plt.figure(figsize=(20, 20))\n",
    "rad_list = np.sqrt(ma_instance_fmm.uE[0:nion]**2+ma_instance_fmm.uE[nion:2*nion]**2+ma_instance_fmm.uE[2*nion:3*nion]**2)\n",
    "plt.hist(10**6*rad_list,50)\n",
    "plt.xlabel(r'$r(m)$', fontsize = 30)\n",
    "plt.ylabel(r'$freq$', fontsize = 30)\n",
    "plt.xticks(fontsize=25)\n",
    "plt.yticks(fontsize=25)\n",
    "\n",
    "rho_list = np.sqrt(ma_instance_fmm.uE[0:nion]**2+ma_instance_fmm.uE[nion:2*nion]**2)\n",
    "plt.figure(figsize=(20, 20))\n",
    "#plt.figure()\n",
    "plt.plot(10**6*rho_list, 10**6*ma_instance_fmm.uE[2*nion:3*nion], linestyle = \" \", marker = \".\")\n",
    "plt.xlabel(r'$\\rho/\\mu m$', fontsize = 30)\n",
    "plt.ylabel(r'$z/\\mu m$', fontsize = 30)\n",
    "plt.xticks(fontsize=25)\n",
    "plt.yticks(fontsize=25)"
   ]
  },
  {
   "cell_type": "code",
   "execution_count": 7,
   "id": "2989a465",
   "metadata": {},
   "outputs": [
    {
     "name": "stdout",
     "output_type": "stream",
     "text": [
      "[3.38327497e-19 3.38327731e-19 3.38329695e-19 3.38327354e-19\n",
      " 3.38327424e-19 3.38327735e-19 3.38326076e-19 3.38328575e-19\n",
      " 3.38326949e-19 3.38326942e-19 3.38331022e-19 3.38329276e-19\n",
      " 3.38327127e-19 3.38327568e-19 3.38326484e-19 3.38326753e-19\n",
      " 3.38329077e-19 3.38327396e-19 3.38326469e-19 3.38327585e-19\n",
      " 3.38328548e-19]\n"
     ]
    }
   ],
   "source": [
    "m = 9.012182*1.66057e-27\n",
    "q = 1.602176597458587e-19\n",
    "wz = 2*np.pi*1.58e6\n",
    "k_e = 8.9875517873681764*10**9\n",
    "l0 = ((k_e * q ** 2) / (.5 * m * wz ** 2)) ** (1 / 3)\n",
    "E0 = 0.5*m*(wz**2)*l0**2 # characteristic energy\n",
    "en = np.array([9955.249787206358,9955.256676682626,9955.314449610734,9955.245592148205,9955.247631704518,9955.256785585769,\n",
    "      9955.207965830465,9955.281503590406,9955.233654312811,9955.233444734256,9955.35352275899,9955.302121828594,\n",
    "      9955.23890414068,9955.251865083954,9955.219981075956,9955.227888645102,9955.29628751889,9955.246809148513,\n",
    "      9955.21952500649,9955.25237426686,9955.280703302396])*E0\n",
    "print(en)"
   ]
  },
  {
   "cell_type": "code",
   "execution_count": 10,
   "id": "4325f313",
   "metadata": {},
   "outputs": [
    {
     "data": {
      "text/plain": [
       "(array([3., 3., 5., 4., 1., 1., 2., 1., 0., 1.]),\n",
       " array([3.38326076e-19, 3.38326570e-19, 3.38327065e-19, 3.38327560e-19,\n",
       "        3.38328054e-19, 3.38328549e-19, 3.38329044e-19, 3.38329538e-19,\n",
       "        3.38330033e-19, 3.38330528e-19, 3.38331022e-19]),\n",
       " <BarContainer object of 10 artists>)"
      ]
     },
     "execution_count": 10,
     "metadata": {},
     "output_type": "execute_result"
    },
    {
     "data": {
      "image/png": "[encoded data removed]",
      "text/plain": [
       "<Figure size 720x720 with 1 Axes>"
      ]
     },
     "metadata": {
      "needs_background": "light"
     },
     "output_type": "display_data"
    }
   ],
   "source": [
    "plt.figure(figsize=(10, 10))\n",
    "plt.xlabel(r'energy',fontsize = 30)\n",
    "plt.ylabel(r'frequency',fontsize = 30)\n",
    "plt.xticks(fontsize=15)\n",
    "plt.yticks(fontsize=25)\n",
    "plt.hist(en)"
   ]
  },
  {
   "cell_type": "code",
   "execution_count": null,
   "id": "0ece68d9",
   "metadata": {},
   "outputs": [],
   "source": []
  }
 ],
 "metadata": {
  "kernelspec": {
   "display_name": "Python 3 (ipykernel)",
   "language": "python",
   "name": "python3"
  },
  "language_info": {
   "codemirror_mode": {
    "name": "ipython",
    "version": 3
   },
   "file_extension": ".py",
   "mimetype": "text/x-python",
   "name": "python",
   "nbconvert_exporter": "python",
   "pygments_lexer": "ipython3",
   "version": "3.9.12"
  }
 },
 "nbformat": 4,
 "nbformat_minor": 5
}
